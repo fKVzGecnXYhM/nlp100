{
  "nbformat": 4,
  "nbformat_minor": 0,
  "metadata": {
    "colab": {
      "name": "chapter02.ipynb",
      "provenance": [],
      "collapsed_sections": [],
      "mount_file_id": "1wj3dwWG5483CYOFe_SbeYmOVX4sUQFtD",
      "authorship_tag": "ABX9TyO1mgtPMPRsZd+lXmy6hdbU"
    },
    "kernelspec": {
      "name": "python3",
      "display_name": "Python 3"
    }
  },
  "cells": [
    {
      "cell_type": "markdown",
      "metadata": {
        "id": "uGHU9Bpd2SS1",
        "colab_type": "text"
      },
      "source": [
        "# 第2章: UNIXコマンド\n",
        "popular-names.txtは，アメリカで生まれた赤ちゃんの「名前」「性別」「人数」「年」をタブ区切り形式で格納したファイルである．以下の処理を行うプログラムを作成し，popular-names.txtを入力ファイルとして実行せよ．さらに，同様の処理をUNIXコマンドでも実行し，プログラムの実行結果を確認せよ．"
      ]
    },
    {
      "cell_type": "code",
      "metadata": {
        "id": "cn-6zG3wkQYx",
        "colab_type": "code",
        "outputId": "fddaa8af-276f-4547-9677-bb944737fec7",
        "colab": {
          "base_uri": "https://localhost:8080/",
          "height": 204
        }
      },
      "source": [
        "!wget https://nlp100.github.io/data/popular-names.txt"
      ],
      "execution_count": 0,
      "outputs": [
        {
          "output_type": "stream",
          "text": [
            "--2020-05-28 00:02:13--  https://nlp100.github.io/data/popular-names.txt\n",
            "Resolving nlp100.github.io (nlp100.github.io)... 185.199.110.153, 185.199.109.153, 185.199.108.153, ...\n",
            "Connecting to nlp100.github.io (nlp100.github.io)|185.199.110.153|:443... connected.\n",
            "HTTP request sent, awaiting response... 200 OK\n",
            "Length: 55026 (54K) [text/plain]\n",
            "Saving to: ‘popular-names.txt.1’\n",
            "\n",
            "\rpopular-names.txt.1   0%[                    ]       0  --.-KB/s               \rpopular-names.txt.1 100%[===================>]  53.74K  --.-KB/s    in 0.02s   \n",
            "\n",
            "2020-05-28 00:02:14 (3.49 MB/s) - ‘popular-names.txt.1’ saved [55026/55026]\n",
            "\n"
          ],
          "name": "stdout"
        }
      ]
    },
    {
      "cell_type": "markdown",
      "metadata": {
        "id": "vDLdqfP92QtB",
        "colab_type": "text"
      },
      "source": [
        "## 10. 行数のカウント\n",
        "***\n",
        "行数をカウントせよ．確認にはwcコマンドを用いよ．"
      ]
    },
    {
      "cell_type": "code",
      "metadata": {
        "id": "eh0mAyU12Z6Y",
        "colab_type": "code",
        "outputId": "f6268bfe-d4ba-4581-866a-c8e001150920",
        "colab": {
          "base_uri": "https://localhost:8080/",
          "height": 34
        }
      },
      "source": [
        "import pandas as pd\n",
        "\n",
        "df = pd.read_table('./popular-names.txt', header=None, sep='\\t', names=['name', 'sex', 'number', 'year'])\n",
        "print(len(df))"
      ],
      "execution_count": 0,
      "outputs": [
        {
          "output_type": "stream",
          "text": [
            "2780\n"
          ],
          "name": "stdout"
        }
      ]
    },
    {
      "cell_type": "code",
      "metadata": {
        "id": "CBqi7ErykONb",
        "colab_type": "code",
        "outputId": "2a711fc4-655d-494f-bbab-4ab2425ac461",
        "colab": {
          "base_uri": "https://localhost:8080/",
          "height": 34
        }
      },
      "source": [
        "# 確認\n",
        "!cat ./popular-names.txt | wc -l"
      ],
      "execution_count": 0,
      "outputs": [
        {
          "output_type": "stream",
          "text": [
            "2780\n"
          ],
          "name": "stdout"
        }
      ]
    },
    {
      "cell_type": "markdown",
      "metadata": {
        "id": "0j76rjw_hqu6",
        "colab_type": "text"
      },
      "source": [
        "## 11. タブをスペースに置換\n",
        "***\n",
        "タブ1文字につきスペース1文字に置換せよ．確認にはsedコマンド，trコマンド，もしくはexpandコマンドを用いよ．"
      ]
    },
    {
      "cell_type": "code",
      "metadata": {
        "id": "XTjWaKzLhyR9",
        "colab_type": "code",
        "outputId": "34d930f6-bf72-4e53-dc29-7e7ac53d0db9",
        "colab": {
          "base_uri": "https://localhost:8080/",
          "height": 102
        }
      },
      "source": [
        "# 確認\n",
        "!sed -e 's/\\t/ /g' ./popular-names.txt | head -n 5"
      ],
      "execution_count": 0,
      "outputs": [
        {
          "output_type": "stream",
          "text": [
            "Mary F 7065 1880\n",
            "Anna F 2604 1880\n",
            "Emma F 2003 1880\n",
            "Elizabeth F 1939 1880\n",
            "Minnie F 1746 1880\n"
          ],
          "name": "stdout"
        }
      ]
    },
    {
      "cell_type": "markdown",
      "metadata": {
        "id": "98L6Id8Ni-uy",
        "colab_type": "text"
      },
      "source": [
        "## 12. 1列目をcol1.txtに，2列目をcol2.txtに保存\n",
        "***\n",
        "各行の1列目だけを抜き出したものをcol1.txtに，2列目だけを抜き出したものをcol2.txtとしてファイルに保存せよ．確認にはcutコマンドを用いよ．"
      ]
    },
    {
      "cell_type": "code",
      "metadata": {
        "id": "q8UDMdgzi9Ps",
        "colab_type": "code",
        "colab": {}
      },
      "source": [
        "col1 = df['name'].copy()\n",
        "col1.to_csv('./col1.txt', index=False)\n",
        "col2 = df['sex'].copy()\n",
        "col2.to_csv('./col2.txt', index=False)"
      ],
      "execution_count": 0,
      "outputs": []
    },
    {
      "cell_type": "code",
      "metadata": {
        "id": "JjiBMxx5kS6I",
        "colab_type": "code",
        "outputId": "8844df6c-e844-4701-8cc0-99da47285ae2",
        "colab": {
          "base_uri": "https://localhost:8080/",
          "height": 102
        }
      },
      "source": [
        "# 確認\n",
        "!cut -f 1 ./popular-names.txt > ./col1_chk.txt\n",
        "!cat ./col1_chk.txt | head -n 5"
      ],
      "execution_count": 0,
      "outputs": [
        {
          "output_type": "stream",
          "text": [
            "Mary\n",
            "Anna\n",
            "Emma\n",
            "Elizabeth\n",
            "Minnie\n"
          ],
          "name": "stdout"
        }
      ]
    },
    {
      "cell_type": "code",
      "metadata": {
        "id": "-0dlDu0-kVXR",
        "colab_type": "code",
        "outputId": "d5a8420b-b662-43be-d6b9-7e701bc0085b",
        "colab": {
          "base_uri": "https://localhost:8080/",
          "height": 102
        }
      },
      "source": [
        "!cut -f 2 ./popular-names.txt > ./col2_chk.txt\n",
        "!cat ./col2_chk.txt | head -n 5"
      ],
      "execution_count": 0,
      "outputs": [
        {
          "output_type": "stream",
          "text": [
            "F\n",
            "F\n",
            "F\n",
            "F\n",
            "F\n"
          ],
          "name": "stdout"
        }
      ]
    },
    {
      "cell_type": "markdown",
      "metadata": {
        "id": "Q5Hrt-KckVGG",
        "colab_type": "text"
      },
      "source": [
        "## 13. col1.txtとcol2.txtをマージ\n",
        "***\n",
        "12で作ったcol1.txtとcol2.txtを結合し，元のファイルの1列目と2列目をタブ区切りで並べたテキストファイルを作成せよ．確認にはpasteコマンドを用いよ．"
      ]
    },
    {
      "cell_type": "code",
      "metadata": {
        "id": "NbJWfXFtkLJH",
        "colab_type": "code",
        "outputId": "52c1490e-4ceb-4a4a-fefa-1354e86d07c6",
        "colab": {
          "base_uri": "https://localhost:8080/",
          "height": 119
        }
      },
      "source": [
        "col1 = pd.read_table('./col1.txt')\n",
        "col2 = pd.read_table('./col2.txt')\n",
        "merged_1_2 = pd.concat([col1, col2], axis=1)\n",
        "merged_1_2.to_csv('./merged_1_2.txt', sep='\\t', index=False)\n",
        "print(merged_1_2.head())"
      ],
      "execution_count": 0,
      "outputs": [
        {
          "output_type": "stream",
          "text": [
            "        name sex\n",
            "0       Mary   F\n",
            "1       Anna   F\n",
            "2       Emma   F\n",
            "3  Elizabeth   F\n",
            "4     Minnie   F\n"
          ],
          "name": "stdout"
        }
      ]
    },
    {
      "cell_type": "code",
      "metadata": {
        "id": "G2zz0sFTkXeZ",
        "colab_type": "code",
        "outputId": "3da2d873-9fa4-476b-cac8-724ba81554c8",
        "colab": {
          "base_uri": "https://localhost:8080/",
          "height": 102
        }
      },
      "source": [
        "# 確認\n",
        "!paste ./col1_chk.txt ./col2_chk.txt | head -n 5"
      ],
      "execution_count": 0,
      "outputs": [
        {
          "output_type": "stream",
          "text": [
            "Mary\tF\n",
            "Anna\tF\n",
            "Emma\tF\n",
            "Elizabeth\tF\n",
            "Minnie\tF\n"
          ],
          "name": "stdout"
        }
      ]
    },
    {
      "cell_type": "markdown",
      "metadata": {
        "id": "1OT_n-pdk063",
        "colab_type": "text"
      },
      "source": [
        "## 14. 先頭からN行を出力\n",
        "***\n",
        "自然数Nをコマンドライン引数などの手段で受け取り，入力のうち先頭のN行だけを表示せよ．確認にはheadコマンドを用いよ．"
      ]
    },
    {
      "cell_type": "code",
      "metadata": {
        "id": "cBiIDFcOkhe_",
        "colab_type": "code",
        "outputId": "26add602-6411-4eb4-ef03-a4c76053cf5d",
        "colab": {
          "base_uri": "https://localhost:8080/",
          "height": 119
        }
      },
      "source": [
        "def output_head(N):\n",
        "  print(df.head(N))\n",
        "output_head(5)"
      ],
      "execution_count": 0,
      "outputs": [
        {
          "output_type": "stream",
          "text": [
            "        name sex  number  year\n",
            "0       Mary   F    7065  1880\n",
            "1       Anna   F    2604  1880\n",
            "2       Emma   F    2003  1880\n",
            "3  Elizabeth   F    1939  1880\n",
            "4     Minnie   F    1746  1880\n"
          ],
          "name": "stdout"
        }
      ]
    },
    {
      "cell_type": "code",
      "metadata": {
        "id": "kMzMJreQkgUK",
        "colab_type": "code",
        "outputId": "e94e77b4-725d-444d-8dbb-3557f42ef1ad",
        "colab": {
          "base_uri": "https://localhost:8080/",
          "height": 102
        }
      },
      "source": [
        "# 確認\n",
        "!head -n 5 ./popular-names.txt"
      ],
      "execution_count": 0,
      "outputs": [
        {
          "output_type": "stream",
          "text": [
            "Mary\tF\t7065\t1880\n",
            "Anna\tF\t2604\t1880\n",
            "Emma\tF\t2003\t1880\n",
            "Elizabeth\tF\t1939\t1880\n",
            "Minnie\tF\t1746\t1880\n"
          ],
          "name": "stdout"
        }
      ]
    },
    {
      "cell_type": "markdown",
      "metadata": {
        "id": "TGUOVzf4ldPk",
        "colab_type": "text"
      },
      "source": [
        "## 15. 末尾のN行を出力\n",
        "***\n",
        "自然数Nをコマンドライン引数などの手段で受け取り，入力のうち末尾のN行だけを表示せよ．確認にはtailコマンドを用いよ．"
      ]
    },
    {
      "cell_type": "code",
      "metadata": {
        "id": "tyxrecpylU8R",
        "colab_type": "code",
        "outputId": "2a3ce700-db4d-404c-8e33-37db1ac86a5a",
        "colab": {
          "base_uri": "https://localhost:8080/",
          "height": 119
        }
      },
      "source": [
        "def output_tail(N):\n",
        "  print(df.tail(N))\n",
        "output_tail(5)"
      ],
      "execution_count": 0,
      "outputs": [
        {
          "output_type": "stream",
          "text": [
            "          name sex  number  year\n",
            "2775  Benjamin   M   13381  2018\n",
            "2776    Elijah   M   12886  2018\n",
            "2777     Lucas   M   12585  2018\n",
            "2778     Mason   M   12435  2018\n",
            "2779     Logan   M   12352  2018\n"
          ],
          "name": "stdout"
        }
      ]
    },
    {
      "cell_type": "code",
      "metadata": {
        "id": "rHTViuLhkiJC",
        "colab_type": "code",
        "outputId": "4fafcea5-b6ce-4cc4-fa35-39bae229e09d",
        "colab": {
          "base_uri": "https://localhost:8080/",
          "height": 102
        }
      },
      "source": [
        "# 確認\n",
        "!tail -n 5 ./popular-names.txt"
      ],
      "execution_count": 0,
      "outputs": [
        {
          "output_type": "stream",
          "text": [
            "Benjamin\tM\t13381\t2018\n",
            "Elijah\tM\t12886\t2018\n",
            "Lucas\tM\t12585\t2018\n",
            "Mason\tM\t12435\t2018\n",
            "Logan\tM\t12352\t2018\n"
          ],
          "name": "stdout"
        }
      ]
    },
    {
      "cell_type": "markdown",
      "metadata": {
        "id": "nkoTJj2klmDA",
        "colab_type": "text"
      },
      "source": [
        "## 16. ファイルをN分割する\n",
        "***\n",
        "自然数Nをコマンドライン引数などの手段で受け取り，入力のファイルを行単位でN分割せよ．同様の処理をsplitコマンドで実現せよ．"
      ]
    },
    {
      "cell_type": "code",
      "metadata": {
        "id": "U76ylNCbljV6",
        "colab_type": "code",
        "outputId": "0261686c-a36e-4c15-ea7e-b5b346eae4b8",
        "colab": {
          "base_uri": "https://localhost:8080/",
          "height": 306
        }
      },
      "source": [
        "def split_file(N):\n",
        "  tmp = df.reset_index(drop=False)\n",
        "  df_cut = pd.qcut(tmp.index, N, labels=[i for i in range(N)])\n",
        "  print(df_cut.value_counts())\n",
        "  df_cut = pd.concat([df, pd.Series(df_cut, name='sp')], axis=1)\n",
        "  return df_cut\n",
        "df_cut = split_file(10)\n",
        "print(df_cut.head())"
      ],
      "execution_count": 0,
      "outputs": [
        {
          "output_type": "stream",
          "text": [
            "0    278\n",
            "1    278\n",
            "2    278\n",
            "3    278\n",
            "4    278\n",
            "5    278\n",
            "6    278\n",
            "7    278\n",
            "8    278\n",
            "9    278\n",
            "dtype: int64\n",
            "        name sex  number  year sp\n",
            "0       Mary   F    7065  1880  0\n",
            "1       Anna   F    2604  1880  0\n",
            "2       Emma   F    2003  1880  0\n",
            "3  Elizabeth   F    1939  1880  0\n",
            "4     Minnie   F    1746  1880  0\n"
          ],
          "name": "stdout"
        }
      ]
    },
    {
      "cell_type": "code",
      "metadata": {
        "id": "jOYhMiANkkBi",
        "colab_type": "code",
        "colab": {}
      },
      "source": [
        "!split -l 200 -d ./popular-names.txt sp"
      ],
      "execution_count": 0,
      "outputs": []
    },
    {
      "cell_type": "markdown",
      "metadata": {
        "id": "rv5fVjIRl7QK",
        "colab_type": "text"
      },
      "source": [
        "## 17. １列目の文字列の異なり\n",
        "***\n",
        "1列目の文字列の種類（異なる文字列の集合）を求めよ．確認にはcut, sort, uniqコマンドを用いよ．"
      ]
    },
    {
      "cell_type": "code",
      "metadata": {
        "id": "5uNEHTi6luWr",
        "colab_type": "code",
        "outputId": "2cbb1bee-72b5-447a-e1c7-d7a6fa88fbac",
        "colab": {
          "base_uri": "https://localhost:8080/",
          "height": 34
        }
      },
      "source": [
        "print(len(df.drop_duplicates(subset='name')))"
      ],
      "execution_count": 0,
      "outputs": [
        {
          "output_type": "stream",
          "text": [
            "136\n"
          ],
          "name": "stdout"
        }
      ]
    },
    {
      "cell_type": "code",
      "metadata": {
        "id": "J7qGmBkIkn6S",
        "colab_type": "code",
        "outputId": "f6e5dad0-f684-40a0-9549-ae5aa6630726",
        "colab": {
          "base_uri": "https://localhost:8080/",
          "height": 34
        }
      },
      "source": [
        "# 確認\n",
        "!cut -f 1 ./popular-names.txt | sort | uniq | wc -l"
      ],
      "execution_count": 0,
      "outputs": [
        {
          "output_type": "stream",
          "text": [
            "136\n"
          ],
          "name": "stdout"
        }
      ]
    },
    {
      "cell_type": "markdown",
      "metadata": {
        "id": "6JYgH5aUrWIc",
        "colab_type": "text"
      },
      "source": [
        "## 18. 各行を3コラム目の数値の降順にソート\n",
        "***\n",
        "各行を3コラム目の数値の逆順で整列せよ（注意: 各行の内容は変更せずに並び替えよ）．確認にはsortコマンドを用いよ（この問題はコマンドで実行した時の結果と合わなくてもよい）．"
      ]
    },
    {
      "cell_type": "code",
      "metadata": {
        "id": "jnqCTw3yqAKr",
        "colab_type": "code",
        "outputId": "02fde0c2-a9dc-4932-9c26-ac6b7a19858d",
        "colab": {
          "base_uri": "https://localhost:8080/",
          "height": 119
        }
      },
      "source": [
        "df.sort_values(by='number', ascending=False, inplace=True)\n",
        "print(df.head())"
      ],
      "execution_count": 0,
      "outputs": [
        {
          "output_type": "stream",
          "text": [
            "         name sex  number  year\n",
            "1340    Linda   F   99689  1947\n",
            "1360    Linda   F   96211  1948\n",
            "1350    James   M   94757  1947\n",
            "1550  Michael   M   92704  1957\n",
            "1351   Robert   M   91640  1947\n"
          ],
          "name": "stdout"
        }
      ]
    },
    {
      "cell_type": "code",
      "metadata": {
        "id": "-i0wMa2ukpm7",
        "colab_type": "code",
        "outputId": "82a78de1-bc48-472b-f8c4-2468511cb20a",
        "colab": {
          "base_uri": "https://localhost:8080/",
          "height": 102
        }
      },
      "source": [
        "# 確認\n",
        "!cat ./popular-names.txt | sort -rnk 3 | head -n 5"
      ],
      "execution_count": 0,
      "outputs": [
        {
          "output_type": "stream",
          "text": [
            "Linda\tF\t99689\t1947\n",
            "Linda\tF\t96211\t1948\n",
            "James\tM\t94757\t1947\n",
            "Michael\tM\t92704\t1957\n",
            "Robert\tM\t91640\t1947\n"
          ],
          "name": "stdout"
        }
      ]
    },
    {
      "cell_type": "markdown",
      "metadata": {
        "id": "4_AMuAgHsjfE",
        "colab_type": "text"
      },
      "source": [
        "## 19. 各行の1コラム目の文字列の出現頻度を求め，出現頻度の高い順に並べる\n",
        "***\n",
        "各行の1列目の文字列の出現頻度を求め，その高い順に並べて表示せよ．確認にはcut, uniq, sortコマンドを用いよ．"
      ]
    },
    {
      "cell_type": "code",
      "metadata": {
        "id": "yc8VXAKirFZs",
        "colab_type": "code",
        "outputId": "e8dda9cf-c8a7-4966-8845-0693863b31d3",
        "colab": {
          "base_uri": "https://localhost:8080/",
          "height": 221
        }
      },
      "source": [
        "print(df['name'].value_counts())"
      ],
      "execution_count": 0,
      "outputs": [
        {
          "output_type": "stream",
          "text": [
            "James      118\n",
            "William    111\n",
            "John       108\n",
            "Robert     108\n",
            "Mary        92\n",
            "          ... \n",
            "Tracy        1\n",
            "Julie        1\n",
            "Carolyn      1\n",
            "Lori         1\n",
            "Lucas        1\n",
            "Name: name, Length: 136, dtype: int64\n"
          ],
          "name": "stdout"
        }
      ]
    },
    {
      "cell_type": "code",
      "metadata": {
        "id": "zs5L5MMxkr1b",
        "colab_type": "code",
        "outputId": "17b475d3-effb-478a-f9e6-6e1e365a70f4",
        "colab": {
          "base_uri": "https://localhost:8080/",
          "height": 102
        }
      },
      "source": [
        "# 確認\n",
        "!cut -f 1 ./popular-names.txt | sort | uniq -c | sort -rn | head -n 5"
      ],
      "execution_count": 0,
      "outputs": [
        {
          "output_type": "stream",
          "text": [
            "    118 James\n",
            "    111 William\n",
            "    108 Robert\n",
            "    108 John\n",
            "     92 Mary\n"
          ],
          "name": "stdout"
        }
      ]
    }
  ]
}