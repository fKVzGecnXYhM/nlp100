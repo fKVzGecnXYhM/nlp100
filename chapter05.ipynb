{
  "nbformat": 4,
  "nbformat_minor": 0,
  "metadata": {
    "colab": {
      "name": "chapter05.ipynb",
      "provenance": [],
      "collapsed_sections": [],
      "authorship_tag": "ABX9TyNwEtN+q/UsGqeT87/jvRq6"
    },
    "kernelspec": {
      "name": "python3",
      "display_name": "Python 3"
    }
  },
  "cells": [
    {
      "cell_type": "markdown",
      "metadata": {
        "id": "ZP8aiki_I-LD",
        "colab_type": "text"
      },
      "source": [
        "# 第5章: 係り受け解析\n",
        "夏目漱石の小説『吾輩は猫である』の文章（neko.txt）をCaboChaを使って係り受け解析し，その結果をneko.txt.cabochaというファイルに保存せよ．このファイルを用いて，以下の問に対応するプログラムを実装せよ．"
      ]
    },
    {
      "cell_type": "code",
      "metadata": {
        "id": "BXAqAX72JBdb",
        "colab_type": "code",
        "colab": {}
      },
      "source": [
        "!wget https://nlp100.github.io/data/neko.txt"
      ],
      "execution_count": 0,
      "outputs": []
    },
    {
      "cell_type": "code",
      "metadata": {
        "id": "GCzzzcjMKzEY",
        "colab_type": "code",
        "colab": {}
      },
      "source": [
        "!apt install mecab libmecab-dev mecab-ipadic-utf8"
      ],
      "execution_count": 0,
      "outputs": []
    },
    {
      "cell_type": "code",
      "metadata": {
        "id": "jY0gYp3Uq_kZ",
        "colab_type": "code",
        "colab": {}
      },
      "source": [
        "FILE_ID = \"0B4y35FiV1wh7QVR6VXJ5dWExSTQ\"\n",
        "FILE_NAME = \"crfpp.tar.gz\"\n",
        "!wget 'https://docs.google.com/uc?export=download&id=$FILE_ID' -O $FILE_NAME\n",
        "!tar xvf crfpp.tar.gz\n",
        "%cd CRF++-0.58\n",
        "!./configure && make && make install && ldconfig\n",
        "%cd .."
      ],
      "execution_count": 0,
      "outputs": []
    },
    {
      "cell_type": "code",
      "metadata": {
        "id": "ibhkiIWrN_r1",
        "colab_type": "code",
        "colab": {}
      },
      "source": [
        "FILE_ID = \"0B4y35FiV1wh7SDd1Q1dUQkZQaUU\"\n",
        "FILE_NAME = \"cabocha-0.69.tar.bz2\"\n",
        "!wget --load-cookies /tmp/cookies.txt \"https://docs.google.com/uc?export=download&confirm=$(wget --quiet --save-cookies /tmp/cookies.txt --keep-session-cookies --no-check-certificate 'https://docs.google.com/uc?export=download&id=$FILE_ID' -O- | sed -rn 's/.*confirm=([0-9A-Za-z_]+).*/\\1\\n/p')&id=$FILE_ID\" -O $FILE_NAME && rm -rf /tmp/cookies.txt\n",
        "!tar -xvf cabocha-0.69.tar.bz2\n",
        "%cd cabocha-0.69\n",
        "!./configure -with-charset=utf-8 && make && make check && make install && ldconfig\n",
        "%cd .."
      ],
      "execution_count": 0,
      "outputs": []
    },
    {
      "cell_type": "code",
      "metadata": {
        "id": "9Ktlkf65lFGm",
        "colab_type": "code",
        "colab": {}
      },
      "source": [
        "!cabocha -f1 -o neko.txt.cabocha neko.txt"
      ],
      "execution_count": 0,
      "outputs": []
    },
    {
      "cell_type": "code",
      "metadata": {
        "id": "38mcB8ybXk9i",
        "colab_type": "code",
        "colab": {
          "base_uri": "https://localhost:8080/",
          "height": 35
        },
        "outputId": "5a33a7ad-ec41-40ff-ea40-0e70229920a2"
      },
      "source": [
        "!wc -l ./neko.txt.cabocha"
      ],
      "execution_count": 35,
      "outputs": [
        {
          "output_type": "stream",
          "text": [
            "297283 ./neko.txt.cabocha\n"
          ],
          "name": "stdout"
        }
      ]
    },
    {
      "cell_type": "code",
      "metadata": {
        "id": "KtdaY5GLXplO",
        "colab_type": "code",
        "colab": {
          "base_uri": "https://localhost:8080/",
          "height": 287
        },
        "outputId": "1a446e9d-6656-481d-a04b-6a6ccf81d848"
      },
      "source": [
        "!head -15 ./neko.txt.cabocha"
      ],
      "execution_count": 36,
      "outputs": [
        {
          "output_type": "stream",
          "text": [
            "* 0 -1D 0/0 0.000000\n",
            "一\t名詞,数,*,*,*,*,一,イチ,イチ\n",
            "EOS\n",
            "EOS\n",
            "* 0 2D 0/0 -0.764522\n",
            "　\t記号,空白,*,*,*,*,　,　,　\n",
            "* 1 2D 0/1 -0.764522\n",
            "吾輩\t名詞,代名詞,一般,*,*,*,吾輩,ワガハイ,ワガハイ\n",
            "は\t助詞,係助詞,*,*,*,*,は,ハ,ワ\n",
            "* 2 -1D 0/2 0.000000\n",
            "猫\t名詞,一般,*,*,*,*,猫,ネコ,ネコ\n",
            "で\t助動詞,*,*,*,特殊・ダ,連用形,だ,デ,デ\n",
            "ある\t助動詞,*,*,*,五段・ラ行アル,基本形,ある,アル,アル\n",
            "。\t記号,句点,*,*,*,*,。,。,。\n",
            "EOS\n"
          ],
          "name": "stdout"
        }
      ]
    },
    {
      "cell_type": "markdown",
      "metadata": {
        "id": "yOdZTWoAJCop",
        "colab_type": "text"
      },
      "source": [
        "## 40. 係り受け解析結果の読み込み（形態素）\n",
        "***\n",
        "形態素を表すクラスMorphを実装せよ．このクラスは表層形（surface），基本形（base），品詞（pos），品詞細分類1（pos1）をメンバ変数に持つこととする．さらに，CaboChaの解析結果（neko.txt.cabocha）を読み込み，各文をMorphオブジェクトのリストとして表現し，3文目の形態素列を表示せよ．"
      ]
    },
    {
      "cell_type": "code",
      "metadata": {
        "id": "M_SHvAz4JGSI",
        "colab_type": "code",
        "colab": {}
      },
      "source": [
        "class Morph:\n",
        "  def __init__(self, morph):\n",
        "    (surface, attr) = morph.split('\\t')\n",
        "    attr = attr.split(',')\n",
        "    self.surface = surface\n",
        "    self.base = attr[6]\n",
        "    self.pos = attr[0]\n",
        "    self.pos1 = attr[1]"
      ],
      "execution_count": 0,
      "outputs": []
    },
    {
      "cell_type": "code",
      "metadata": {
        "id": "24XgQwd8rqZi",
        "colab_type": "code",
        "outputId": "c146608b-9342-4061-9b37-4059c79a4451",
        "colab": {
          "base_uri": "https://localhost:8080/",
          "height": 341
        }
      },
      "source": [
        "filename = './neko.txt.cabocha'\n",
        "\n",
        "# 文単位に分割して読込\n",
        "with open(filename, mode='r', encoding='utf-8') as f:\n",
        "  text = f.read().split('EOS\\n')\n",
        "\n",
        "# 確認\n",
        "print(text[2])\n",
        "\n",
        "# 指定フォーマットに整形\n",
        "sentences = []\n",
        "for sentence in text:\n",
        "  morphs = []\n",
        "  for line in sentence.split('\\n'):\n",
        "    if line == '' or line[0] == '*':  # 文末または係り受け関係を表す行 --> スキップ\n",
        "      continue\n",
        "    else:  # 形態素を表す行 --> Morphを適用しリストに追加\n",
        "      morphs.append(Morph(line))\n",
        "  sentences.append(morphs)\n",
        "\n",
        "# 確認\n",
        "for m in sentences[2]:\n",
        "  print(vars(m))"
      ],
      "execution_count": 38,
      "outputs": [
        {
          "output_type": "stream",
          "text": [
            "* 0 2D 0/0 -0.764522\n",
            "　\t記号,空白,*,*,*,*,　,　,　\n",
            "* 1 2D 0/1 -0.764522\n",
            "吾輩\t名詞,代名詞,一般,*,*,*,吾輩,ワガハイ,ワガハイ\n",
            "は\t助詞,係助詞,*,*,*,*,は,ハ,ワ\n",
            "* 2 -1D 0/2 0.000000\n",
            "猫\t名詞,一般,*,*,*,*,猫,ネコ,ネコ\n",
            "で\t助動詞,*,*,*,特殊・ダ,連用形,だ,デ,デ\n",
            "ある\t助動詞,*,*,*,五段・ラ行アル,基本形,ある,アル,アル\n",
            "。\t記号,句点,*,*,*,*,。,。,。\n",
            "\n",
            "{'surface': '\\u3000', 'base': '\\u3000', 'pos': '記号', 'pos1': '空白'}\n",
            "{'surface': '吾輩', 'base': '吾輩', 'pos': '名詞', 'pos1': '代名詞'}\n",
            "{'surface': 'は', 'base': 'は', 'pos': '助詞', 'pos1': '係助詞'}\n",
            "{'surface': '猫', 'base': '猫', 'pos': '名詞', 'pos1': '一般'}\n",
            "{'surface': 'で', 'base': 'だ', 'pos': '助動詞', 'pos1': '*'}\n",
            "{'surface': 'ある', 'base': 'ある', 'pos': '助動詞', 'pos1': '*'}\n",
            "{'surface': '。', 'base': '。', 'pos': '記号', 'pos1': '句点'}\n"
          ],
          "name": "stdout"
        }
      ]
    },
    {
      "cell_type": "markdown",
      "metadata": {
        "id": "dUQQRQNKJHFB",
        "colab_type": "text"
      },
      "source": [
        "## 41. 係り受け解析結果の読み込み（文節・係り受け）\n",
        "***\n",
        "40に加えて，文節を表すクラスChunkを実装せよ．このクラスは形態素（Morphオブジェクト）のリスト（morphs），係り先文節インデックス番号（dst），係り元文節インデックス番号のリスト（srcs）をメンバ変数に持つこととする．さらに，入力テキストのCaboChaの解析結果を読み込み，１文をChunkオブジェクトのリストとして表現し，8文目の文節の文字列と係り先を表示せよ．第5章の残りの問題では，ここで作ったプログラムを活用せよ．"
      ]
    },
    {
      "cell_type": "code",
      "metadata": {
        "id": "8HxE_Bm_JKAT",
        "colab_type": "code",
        "colab": {}
      },
      "source": [
        "class Chunk():\n",
        "  def __init__(self, morphs, dst):\n",
        "    self.morphs = morphs\n",
        "    self.dst = dst\n",
        "    self.srcs = []\n",
        "\n",
        "\n",
        "class Sentence():\n",
        "  def __init__(self, chunks):\n",
        "    self.chunks = chunks\n",
        "    for i, chunk in enumerate(self.chunks):\n",
        "      if chunk.dst != -1:\n",
        "        self.chunks[chunk.dst].srcs.append(i)"
      ],
      "execution_count": 0,
      "outputs": []
    },
    {
      "cell_type": "code",
      "metadata": {
        "id": "ik-LSJiouXZS",
        "colab_type": "code",
        "outputId": "91fee6b9-8167-482b-8c6a-7205d80621a8",
        "colab": {
          "base_uri": "https://localhost:8080/",
          "height": 485
        }
      },
      "source": [
        "filename = './neko.txt.cabocha'\n",
        "\n",
        "# 文単位に分割して読込\n",
        "with open(filename, mode='r', encoding='utf-8') as f:\n",
        "  text = f.read().split('EOS\\n')\n",
        "\n",
        "# 確認\n",
        "for t in text[7].split('\\n'):\n",
        "  print(t)\n",
        "\n",
        "# 指定フォーマットに整形\n",
        "sentences = []\n",
        "for sentence in text:\n",
        "  if sentence == '':  # 空の文 --> 以下の処理を省略して空のSentenceオブジェクトをsentencesリストに追加\n",
        "    sentences.append(Sentence([]))\n",
        "  else:\n",
        "    chunks = []\n",
        "    morphs = []\n",
        "    dst = None\n",
        "    for line in sentence.split('\\n'):\n",
        "      if line == '':  # 文末を表す行 --> 文末直前の文節の情報にChunkを適用しchunksリストに追加\n",
        "        chunks.append(Chunk(morphs, dst))\n",
        "      elif line[0] == '*':  # 係り受け関係を表す行 --> 直前の文節の情報にChunkを適用しchunksリストに追加 + 直後の文節の係り先を取得\n",
        "        if len(morphs) > 0:\n",
        "          chunks.append(Chunk(morphs, dst))\n",
        "          morphs = []\n",
        "        dst = int(line.split(' ')[2].rstrip('D'))\n",
        "      else:  # 形態素を表す行 --> Morphを適用しmorphsリストに追加\n",
        "        morphs.append(Morph(line))\n",
        "    sentences.append(Sentence(chunks))  # Sentenceを適用しsentencesリストに追加\n",
        "\n",
        "# 確認\n",
        "for chunk in sentences[7].chunks:\n",
        "  print([morph.surface for morph in chunk.morphs], chunk.dst, chunk.srcs)"
      ],
      "execution_count": 40,
      "outputs": [
        {
          "output_type": "stream",
          "text": [
            "* 0 5D 0/1 -1.514009\n",
            "吾輩\t名詞,代名詞,一般,*,*,*,吾輩,ワガハイ,ワガハイ\n",
            "は\t助詞,係助詞,*,*,*,*,は,ハ,ワ\n",
            "* 1 2D 0/1 1.311423\n",
            "ここ\t名詞,代名詞,一般,*,*,*,ここ,ココ,ココ\n",
            "で\t助詞,格助詞,一般,*,*,*,で,デ,デ\n",
            "* 2 3D 0/1 0.123057\n",
            "始め\t動詞,自立,*,*,一段,連用形,始める,ハジメ,ハジメ\n",
            "て\t助詞,接続助詞,*,*,*,*,て,テ,テ\n",
            "* 3 4D 0/1 1.440044\n",
            "人間\t名詞,一般,*,*,*,*,人間,ニンゲン,ニンゲン\n",
            "という\t助詞,格助詞,連語,*,*,*,という,トイウ,トユウ\n",
            "* 4 5D 0/1 -1.514009\n",
            "もの\t名詞,非自立,一般,*,*,*,もの,モノ,モノ\n",
            "を\t助詞,格助詞,一般,*,*,*,を,ヲ,ヲ\n",
            "* 5 -1D 0/1 0.000000\n",
            "見\t動詞,自立,*,*,一段,連用形,見る,ミ,ミ\n",
            "た\t助動詞,*,*,*,特殊・タ,基本形,た,タ,タ\n",
            "。\t記号,句点,*,*,*,*,。,。,。\n",
            "\n",
            "['吾輩', 'は'] 5 []\n",
            "['ここ', 'で'] 2 []\n",
            "['始め', 'て'] 3 [1]\n",
            "['人間', 'という'] 4 [2]\n",
            "['もの', 'を'] 5 [3]\n",
            "['見', 'た', '。'] -1 [0, 4]\n"
          ],
          "name": "stdout"
        }
      ]
    },
    {
      "cell_type": "markdown",
      "metadata": {
        "id": "IThw6rp7JKlv",
        "colab_type": "text"
      },
      "source": [
        "## 42. 係り元と係り先の文節の表示\n",
        "***\n",
        "係り元の文節と係り先の文節のテキストをタブ区切り形式ですべて抽出せよ．ただし，句読点などの記号は出力しないようにせよ．"
      ]
    },
    {
      "cell_type": "code",
      "metadata": {
        "id": "w_LOQfX9JNby",
        "colab_type": "code",
        "outputId": "ca19516d-985d-436c-91dc-a3fb820cff5c",
        "colab": {
          "base_uri": "https://localhost:8080/",
          "height": 107
        }
      },
      "source": [
        "sentence = sentences[7]\n",
        "for chunk in sentence.chunks:\n",
        "  if int(chunk.dst) != -1:\n",
        "    modifier = ''.join([morph.surface if morph.pos != '記号' else '' for morph in chunk.morphs])\n",
        "    modifiee = ''.join([morph.surface if morph.pos != '記号' else '' for morph in sentence.chunks[int(chunk.dst)].morphs])\n",
        "    print(modifier, modifiee, sep='\\t')"
      ],
      "execution_count": 41,
      "outputs": [
        {
          "output_type": "stream",
          "text": [
            "吾輩は\t見た\n",
            "ここで\t始めて\n",
            "始めて\t人間という\n",
            "人間という\tものを\n",
            "ものを\t見た\n"
          ],
          "name": "stdout"
        }
      ]
    },
    {
      "cell_type": "markdown",
      "metadata": {
        "id": "qGAZlv4jJN9Z",
        "colab_type": "text"
      },
      "source": [
        "## 43. 名詞を含む文節が動詞を含む文節に係るものを抽出\n",
        "***\n",
        "名詞を含む文節が，動詞を含む文節に係るとき，これらをタブ区切り形式で抽出せよ．ただし，句読点などの記号は出力しないようにせよ．"
      ]
    },
    {
      "cell_type": "code",
      "metadata": {
        "id": "rznfyS7-JQyY",
        "colab_type": "code",
        "outputId": "f75819a7-f8fe-49b1-dbae-423043ad8891",
        "colab": {
          "base_uri": "https://localhost:8080/",
          "height": 71
        }
      },
      "source": [
        "sentence = sentences[7]\n",
        "for chunk in sentence.chunks:\n",
        "  if int(chunk.dst) != -1:\n",
        "    modifier = ''.join([morph.surface if morph.pos != '記号' else '' for morph in chunk.morphs])\n",
        "    modifier_pos = [morph.pos for morph in chunk.morphs]\n",
        "    modifiee = ''.join([morph.surface if morph.pos != '記号' else '' for morph in sentence.chunks[int(chunk.dst)].morphs])\n",
        "    modifiee_pos = [morph.pos for morph in sentence.chunks[int(chunk.dst)].morphs]\n",
        "    if '名詞' in modifier_pos and '動詞' in modifiee_pos:\n",
        "      print(modifier, modifiee, sep='\\t')"
      ],
      "execution_count": 42,
      "outputs": [
        {
          "output_type": "stream",
          "text": [
            "吾輩は\t見た\n",
            "ここで\t始めて\n",
            "ものを\t見た\n"
          ],
          "name": "stdout"
        }
      ]
    },
    {
      "cell_type": "markdown",
      "metadata": {
        "id": "F32od7KuJRTj",
        "colab_type": "text"
      },
      "source": [
        "## 44. 係り受け木の可視化\n",
        "***\n",
        "与えられた文の係り受け木を有向グラフとして可視化せよ．可視化には，係り受け木をDOT言語に変換し，Graphvizを用いるとよい．また，Pythonから有向グラフを直接的に可視化するには，pydotを使うとよい．"
      ]
    },
    {
      "cell_type": "code",
      "metadata": {
        "id": "UdXKne-F_r-r",
        "colab_type": "code",
        "outputId": "eefc7f86-cb0e-49f7-a809-65f199eb9de2",
        "colab": {
          "base_uri": "https://localhost:8080/",
          "height": 107
        }
      },
      "source": [
        "# 日本語表示用フォントのインストール\n",
        "!apt install fonts-ipafont-gothic"
      ],
      "execution_count": 43,
      "outputs": [
        {
          "output_type": "stream",
          "text": [
            "Reading package lists... Done\n",
            "Building dependency tree       \n",
            "Reading state information... Done\n",
            "fonts-ipafont-gothic is already the newest version (00303-18ubuntu1).\n",
            "0 upgraded, 0 newly installed, 0 to remove and 31 not upgraded.\n"
          ],
          "name": "stdout"
        }
      ]
    },
    {
      "cell_type": "code",
      "metadata": {
        "id": "Fl3eKsWRJUQi",
        "colab_type": "code",
        "outputId": "3d692a38-f5fd-4cc6-8f9f-6c957ad120bb",
        "colab": {
          "base_uri": "https://localhost:8080/",
          "height": 460
        }
      },
      "source": [
        "import pydot\n",
        "from IPython.display import Image,display_png\n",
        "from graphviz import Digraph\n",
        " \n",
        "sentence = sentences[7]\n",
        "edges = []\n",
        "for id, chunk in enumerate(sentence.chunks):\n",
        "  if int(chunk.dst) != -1:\n",
        "    modifier = ''.join([morph.surface if morph.pos != '記号' else '' for morph in chunk.morphs] + ['(' + str(id) + ')'])\n",
        "    modifiee = ''.join([morph.surface if morph.pos != '記号' else '' for morph in sentence.chunks[int(chunk.dst)].morphs] + ['(' + str(chunk.dst) + ')'])\n",
        "    edges.append([modifier, modifiee])\n",
        "n = pydot.Node('node')\n",
        "n.fontname = 'IPAGothic'\n",
        "g = pydot.graph_from_edges(edges, directed=True)\n",
        "g.add_node(n)\n",
        "g.write_png('./ans44.png')\n",
        "display_png(Image('./ans44.png'))"
      ],
      "execution_count": 44,
      "outputs": [
        {
          "output_type": "display_data",
          "data": {
            "image/png": "[encoded data removed]"
          },
          "metadata": {
            "tags": []
          }
        }
      ]
    },
    {
      "cell_type": "markdown",
      "metadata": {
        "id": "3RS374uwJUtA",
        "colab_type": "text"
      },
      "source": [
        "## 45. 動詞の格パターンの抽出\n",
        "***\n",
        "今回用いている文章をコーパスと見なし，日本語の述語が取りうる格を調査したい． 動詞を述語，動詞に係っている文節の助詞を格と考え，述語と格をタブ区切り形式で出力せよ． ただし，出力は以下の仕様を満たすようにせよ．\n",
        "\n",
        "- 動詞を含む文節において，最左の動詞の基本形を述語とする\n",
        "- 述語に係る助詞を格とする\n",
        "- 述語に係る助詞（文節）が複数あるときは，すべての助詞をスペース区切りで辞書順に並べる  \n",
        "\n",
        "\n",
        "このプログラムの出力をファイルに保存し，以下の事項をUNIXコマンドを用いて確認せよ．\n",
        "\n",
        "- コーパス中で頻出する述語と格パターンの組み合わせ\n",
        "- 「する」「見る」「与える」という動詞の格パターン（コーパス中で出現頻度の高い順に並べよ）"
      ]
    },
    {
      "cell_type": "code",
      "metadata": {
        "id": "0AOyO1RmJfRn",
        "colab_type": "code",
        "colab": {}
      },
      "source": [
        "with open('./ans45.txt', 'w') as f:\n",
        "  for sentence in sentences:\n",
        "    for chunk in sentence.chunks:\n",
        "      for morph in chunk.morphs:\n",
        "        if morph.pos == '動詞':  # chunkの左から順番に動詞を探す\n",
        "          cases = []\n",
        "          for src in chunk.srcs:  # 見つけた動詞の係り元chunkから助詞を探す\n",
        "            cases = cases + [morph.surface for morph in sentence.chunks[src].morphs if morph.pos == '助詞']\n",
        "          if len(cases) > 0:  # 助詞が見つかった場合は重複除去後辞書順にソートして出力\n",
        "            cases = sorted(list(set(cases)))\n",
        "            line = '{}\\t{}'.format(morph.base, ' '.join(cases))\n",
        "            print(line, file=f)\n",
        "          break"
      ],
      "execution_count": 0,
      "outputs": []
    },
    {
      "cell_type": "code",
      "metadata": {
        "id": "0K_B-TPuqJod",
        "colab_type": "code",
        "outputId": "b13d94da-bbd3-4121-d531-d9d9ce1ddd3e",
        "colab": {
          "base_uri": "https://localhost:8080/",
          "height": 197
        }
      },
      "source": [
        "# 確認\n",
        "!cat ./ans45.txt | sort | uniq -c | sort -nr | head -n 10"
      ],
      "execution_count": 46,
      "outputs": [
        {
          "output_type": "stream",
          "text": [
            "   2485 ある\tが\n",
            "   1438 つく\tか が\n",
            "    680 云う\tに\n",
            "    591 する\tが で と\n",
            "    344 見る\tの\n",
            "    340 つかむ\tを\n",
            "    275 云う\tと は\n",
            "    270 思う\tと\n",
            "    248 かかる\tが て\n",
            "    245 かく\tたり を\n"
          ],
          "name": "stdout"
        }
      ]
    },
    {
      "cell_type": "code",
      "metadata": {
        "id": "oGhGRa3pGTxE",
        "colab_type": "code",
        "outputId": "e19d123f-0989-4a9a-8b9d-201bb2c00162",
        "colab": {
          "base_uri": "https://localhost:8080/",
          "height": 107
        }
      },
      "source": [
        "!cat ./ans45.txt | grep 'する' | sort | uniq -c | sort -nr | head -n 5"
      ],
      "execution_count": 47,
      "outputs": [
        {
          "output_type": "stream",
          "text": [
            "   1151 する\tが\n",
            "    751 する\tが と\n",
            "    308 する\tが で と\n",
            "    130 する\tでも に\n",
            "    109 する\tて に は を\n"
          ],
          "name": "stdout"
        }
      ]
    },
    {
      "cell_type": "code",
      "metadata": {
        "id": "ceyLnZYazORo",
        "colab_type": "code",
        "outputId": "9a153572-d287-44e6-d30a-c31140f243da",
        "colab": {
          "base_uri": "https://localhost:8080/",
          "height": 107
        }
      },
      "source": [
        "!cat ./ans45.txt | grep '見る' | sort | uniq -c | sort -nr | head -n 5"
      ],
      "execution_count": 48,
      "outputs": [
        {
          "output_type": "stream",
          "text": [
            "    344 見る\tの\n",
            "    107 見る\tは を\n",
            "     35 見る\tが に を\n",
            "     27 見る\tから て\n",
            "     22 見る\tから\n"
          ],
          "name": "stdout"
        }
      ]
    },
    {
      "cell_type": "code",
      "metadata": {
        "id": "c8VZcBYPzR5r",
        "colab_type": "code",
        "outputId": "fd395149-d264-431c-bc12-eaf4c84a5a27",
        "colab": {
          "base_uri": "https://localhost:8080/",
          "height": 107
        }
      },
      "source": [
        "!cat ./ans45.txt | grep '与える' | sort | uniq -c | sort -nr | head -n 5"
      ],
      "execution_count": 49,
      "outputs": [
        {
          "output_type": "stream",
          "text": [
            "      5 与える\tば を\n",
            "      3 与える\tて に は を\n",
            "      3 与える\tけ に を\n",
            "      2 与える\tだけ で に を\n",
            "      1 与える\tに に対して のみ は も\n"
          ],
          "name": "stdout"
        }
      ]
    },
    {
      "cell_type": "markdown",
      "metadata": {
        "id": "8EKLLG-AJpSR",
        "colab_type": "text"
      },
      "source": [
        "## 46. 動詞の格フレーム情報の抽出\n",
        "***\n",
        "45のプログラムを改変し，述語と格パターンに続けて項（述語に係っている文節そのもの）をタブ区切り形式で出力せよ．45の仕様に加えて，以下の仕様を満たすようにせよ．\n",
        "\n",
        "- 項は述語に係っている文節の単語列とする（末尾の助詞を取り除く必要はない）\n",
        "- 述語に係る文節が複数あるときは，助詞と同一の基準・順序でスペース区切りで並べる"
      ]
    },
    {
      "cell_type": "code",
      "metadata": {
        "id": "ZC01E_eTJtuo",
        "colab_type": "code",
        "colab": {}
      },
      "source": [
        "with open('./ans46.txt', 'w') as f:\n",
        "  for sentence in sentences:\n",
        "    for chunk in sentence.chunks:\n",
        "      for morph in chunk.morphs:\n",
        "        if morph.pos == '動詞':  # chunkの左から順番に動詞を探す\n",
        "          cases = []\n",
        "          modi_chunks = []\n",
        "          for src in chunk.srcs:  # 見つけた動詞の係り元chunkから助詞を探す\n",
        "            case = [morph.surface for morph in sentence.chunks[src].morphs if morph.pos == '助詞']\n",
        "            if len(case) > 0:  # 助詞を含むchunkの場合は助詞と項を取得\n",
        "              cases = cases + case\n",
        "              modi_chunks.append(''.join(morph.surface for morph in sentence.chunks[src].morphs if morph.pos != '記号'))\n",
        "          if len(cases) > 0:  # 助詞が1つ以上見つかった場合は重複除去後辞書順にソートし、項と合わせて出力\n",
        "            cases = sorted(list(set(cases)))\n",
        "            line = '{}\\t{}\\t{}'.format(morph.base, ' '.join(cases), ' '.join(modi_chunks))\n",
        "            print(line, file=f)\n",
        "          break"
      ],
      "execution_count": 0,
      "outputs": []
    },
    {
      "cell_type": "code",
      "metadata": {
        "id": "5feYFtdbqNQV",
        "colab_type": "code",
        "outputId": "3c97ff41-28f6-44f1-e05f-f8cf870357d9",
        "colab": {
          "base_uri": "https://localhost:8080/",
          "height": 197
        }
      },
      "source": [
        "# 確認\n",
        "!cat ./ans46.txt | head -n 10"
      ],
      "execution_count": 51,
      "outputs": [
        {
          "output_type": "stream",
          "text": [
            "生れる\tで\tどこで\n",
            "つく\tか が\t生れたか 見当が\n",
            "泣く\tで\t所で\n",
            "する\tだけ て は\t泣いて いた事だけは\n",
            "始める\tで\tここで\n",
            "見る\tは を\t吾輩は ものを\n",
            "聞く\tで\tあとで\n",
            "捕える\tを\t我々を\n",
            "煮る\tて\t捕えて\n",
            "食う\tて\t煮て\n"
          ],
          "name": "stdout"
        }
      ]
    },
    {
      "cell_type": "markdown",
      "metadata": {
        "id": "Fb2rr3AaJxSQ",
        "colab_type": "text"
      },
      "source": [
        "## 47. 機能動詞構文のマイニング\n",
        "***\n",
        "動詞のヲ格にサ変接続名詞が入っている場合のみに着目したい．46のプログラムを以下の仕様を満たすように改変せよ．\n",
        "\n",
        "- 「サ変接続名詞+を（助詞）」で構成される文節が動詞に係る場合のみを対象とする\n",
        "述語は「サ変接続名詞+を+動詞の基本形」とし，文節中に複数の動詞があるときは，最左の動詞を用いる\n",
        "- 述語に係る助詞（文節）が複数あるときは，すべての助詞をスペース区切りで辞書順に並べる\n",
        "- 述語に係る文節が複数ある場合は，すべての項をスペース区切りで並べる（助詞の並び順と揃えよ）\n",
        "\n",
        "このプログラムの出力をファイルに保存し，以下の事項をUNIXコマンドを用いて確認せよ．\n",
        "\n",
        "- コーパス中で頻出する述語（サ変接続名詞+を+動詞）\n",
        "- コーパス中で頻出する述語と助詞パターン"
      ]
    },
    {
      "cell_type": "code",
      "metadata": {
        "id": "AYsuO52CJ09W",
        "colab_type": "code",
        "colab": {}
      },
      "source": [
        "with open('./ans47.txt', 'w') as f:\n",
        "  for sentence in sentences:\n",
        "    for chunk in sentence.chunks:\n",
        "      for morph in chunk.morphs:\n",
        "        if morph.pos == '動詞':  # chunkの左から順番に動詞を探す\n",
        "          for i, src in enumerate(chunk.srcs):  # 見つけた動詞の係り元chunkが「サ変接続名詞+を」で構成されるか確認\n",
        "            if len(sentence.chunks[src].morphs) == 2 and sentence.chunks[src].morphs[0].pos1 == 'サ変接続' and sentence.chunks[src].morphs[1].surface == 'を':\n",
        "              predicate = ''.join([sentence.chunks[src].morphs[0].surface, sentence.chunks[src].morphs[1].surface, morph.base])\n",
        "              cases = []\n",
        "              modi_chunks = []\n",
        "              for src_r in chunk.srcs[:i] + chunk.srcs[i + 1:]:  # 残りの係り元chunkから助詞を探す\n",
        "                case = [morph.surface for morph in sentence.chunks[src_r].morphs if morph.pos == '助詞']\n",
        "                if len(case) > 0:  # 助詞を含むchunkの場合は助詞と項を取得\n",
        "                  cases = cases + case\n",
        "                  modi_chunks.append(''.join(morph.surface for morph in sentence.chunks[src_r].morphs if morph.pos != '記号'))\n",
        "              if len(cases) > 0:  # 助詞が1つ以上見つかった場合は重複除去後辞書順にソートし、項と合わせて出力\n",
        "                cases = sorted(list(set(cases)))\n",
        "                line = '{}\\t{}\\t{}'.format(predicate, ' '.join(cases), ' '.join(modi_chunks))\n",
        "                print(line, file=f)\n",
        "              break"
      ],
      "execution_count": 0,
      "outputs": []
    },
    {
      "cell_type": "code",
      "metadata": {
        "id": "Xm3PFSVeqObX",
        "colab_type": "code",
        "outputId": "5c21033c-74ee-4b34-af28-c1089af6c8e2",
        "colab": {
          "base_uri": "https://localhost:8080/",
          "height": 197
        }
      },
      "source": [
        "# 確認\n",
        "!cat ./ans47.txt | cut -f 1 | sort | uniq -c | sort -nr | head -n 10"
      ],
      "execution_count": 53,
      "outputs": [
        {
          "output_type": "stream",
          "text": [
            "     29 返事をする\n",
            "     21 挨拶をする\n",
            "     18 話をする\n",
            "      9 質問をする\n",
            "      8 昼寝をする\n",
            "      8 喧嘩をする\n",
            "      7 真似をする\n",
            "      7 問答をやる\n",
            "      6 相談をする\n",
            "      5 質問をかける\n"
          ],
          "name": "stdout"
        }
      ]
    },
    {
      "cell_type": "code",
      "metadata": {
        "id": "pBj7j6C3zZYK",
        "colab_type": "code",
        "outputId": "1f3a6a9c-3398-43c5-e065-db95bd36f0e0",
        "colab": {
          "base_uri": "https://localhost:8080/",
          "height": 197
        }
      },
      "source": [
        "!cat ./ans47.txt | cut -f 1,2 | sort | uniq -c | sort -nr | head -n 10"
      ],
      "execution_count": 54,
      "outputs": [
        {
          "output_type": "stream",
          "text": [
            "      9 返事をする\tと よ\n",
            "      8 返事をする\tて\n",
            "      6 話をする\tか は\n",
            "      6 話をする\tに\n",
            "      6 挨拶をする\tで\n",
            "      5 昼寝をする\tが\n",
            "      5 挨拶をする\tから\n",
            "      5 挨拶をする\tか と も\n",
            "      5 喧嘩をする\tで\n",
            "      4 返事をする\tから と\n"
          ],
          "name": "stdout"
        }
      ]
    },
    {
      "cell_type": "markdown",
      "metadata": {
        "id": "HcsfYnb3J7ug",
        "colab_type": "text"
      },
      "source": [
        "## 48. 名詞から根へのパスの抽出\n",
        "***\n",
        "文中のすべての名詞を含む文節に対し，その文節から構文木の根に至るパスを抽出せよ． ただし，構文木上のパスは以下の仕様を満たすものとする．\n",
        "\n",
        "- 各文節は（表層形の）形態素列で表現する\n",
        "- パスの開始文節から終了文節に至るまで，各文節の表現を” -> “で連結する"
      ]
    },
    {
      "cell_type": "code",
      "metadata": {
        "id": "MnNqs7PkKDeX",
        "colab_type": "code",
        "outputId": "90f63d96-ad44-4520-d39c-0b14c8dd5b71",
        "colab": {
          "base_uri": "https://localhost:8080/",
          "height": 89
        }
      },
      "source": [
        "sentence = sentences[7]\n",
        "for chunk in sentence.chunks:\n",
        "  if '名詞' in [morph.pos for morph in chunk.morphs]:  # chunkが名詞を含むか確認\n",
        "    path = [''.join(morph.surface for morph in chunk.morphs if morph.pos != '記号')]\n",
        "    while chunk.dst != -1:  # 名詞を含むchunkを先頭に、dstを根まで順に辿ってリストに追加\n",
        "      path.append(''.join(morph.surface for morph in sentence.chunks[chunk.dst].morphs if morph.pos != '記号'))\n",
        "      chunk = sentence.chunks[chunk.dst]\n",
        "    print(' -> '.join(path))"
      ],
      "execution_count": 55,
      "outputs": [
        {
          "output_type": "stream",
          "text": [
            "吾輩は -> 見た\n",
            "ここで -> 始めて -> 人間という -> ものを -> 見た\n",
            "人間という -> ものを -> 見た\n",
            "ものを -> 見た\n"
          ],
          "name": "stdout"
        }
      ]
    },
    {
      "cell_type": "markdown",
      "metadata": {
        "id": "yjhsCjkrKDry",
        "colab_type": "text"
      },
      "source": [
        "## 49. 名詞間の係り受けパスの抽出\n",
        "***\n",
        "文中のすべての名詞句のペアを結ぶ最短係り受けパスを抽出せよ．ただし，名詞句ペアの文節番号がiとj（i<j）のとき，係り受けパスは以下の仕様を満たすものとする．\n",
        "\n",
        "- 問題48と同様に，パスは開始文節から終了文節に至るまでの各文節の表現（表層形の形態素列）を” -> “で連結して表現する\n",
        "- 文節iとjに含まれる名詞句はそれぞれ，XとYに置換する\n",
        "\n",
        "また，係り受けパスの形状は，以下の2通りが考えられる．\n",
        "\n",
        "- 文節iから構文木の根に至る経路上に文節jが存在する場合: 文節iから文節jのパスを表示\n",
        "- 上記以外で，文節iと文節jから構文木の根に至る経路上で共通の文節kで交わる場合: 文節iから文節kに至る直前のパスと文節jから文節kに至る直前までのパス，文節kの内容を” | “で連結して表示"
      ]
    },
    {
      "cell_type": "code",
      "metadata": {
        "id": "aj7rESZ8KOR5",
        "colab_type": "code",
        "outputId": "b4261d05-2ff0-48dc-e257-0ce30ee1d2d4",
        "colab": {
          "base_uri": "https://localhost:8080/",
          "height": 125
        }
      },
      "source": [
        "from itertools import combinations\n",
        "\n",
        "sentence = sentences[7]\n",
        "nouns = []\n",
        "for i, chunk in enumerate(sentence.chunks):\n",
        "  if '名詞' in [morph.pos for morph in chunk.morphs]:  # 名詞を含む文節を抽出\n",
        "    nouns.append(i)\n",
        "for i, j in combinations(nouns, 2):  # 名詞を含む文節のペアごとにパスを作成\n",
        "  path_i = []\n",
        "  path_j = []\n",
        "  while i != j:\n",
        "    if i < j:\n",
        "      path_i.append(i)\n",
        "      i = sentence.chunks[i].dst\n",
        "    else:\n",
        "      path_j.append(j)\n",
        "      j = sentence.chunks[j].dst\n",
        "  if len(path_j) == 0:  # 1つ目のケース\n",
        "    chunk_X = ''.join([morph.surface if morph.pos != '名詞' else 'X' for morph in sentence.chunks[path_i[0]].morphs])\n",
        "    chunk_Y = ''.join([morph.surface if morph.pos != '名詞' else 'Y' for morph in sentence.chunks[i].morphs])\n",
        "    path_XtoY = [chunk_X] + [''.join(morph.surface for morph in sentence.chunks[n].morphs) for n in path_i[1:]] + [chunk_Y]\n",
        "    print(' -> '.join(path_XtoY))\n",
        "  else:  # 2つ目のケース\n",
        "    chunk_X = ''.join([morph.surface if morph.pos != '名詞' else 'X' for morph in sentence.chunks[path_i[0]].morphs])\n",
        "    chunk_Y = ''.join([morph.surface if morph.pos != '名詞' else 'Y' for morph in sentence.chunks[path_j[0]].morphs])\n",
        "    chunk_k = ''.join([morph.surface for morph in sentence.chunks[i].morphs])\n",
        "    path_X = [chunk_X] + [''.join(morph.surface for morph in sentence.chunks[n].morphs) for n in path_i[1:]]\n",
        "    path_Y = [chunk_Y] + [''.join(morph.surface for morph in sentence.chunks[n].morphs) for n in path_j[1:]]\n",
        "    print(' | '.join([' -> '.join(path_X), ' -> '.join(path_Y), chunk_k]))"
      ],
      "execution_count": 56,
      "outputs": [
        {
          "output_type": "stream",
          "text": [
            "Xは | Yで -> 始めて -> 人間という -> ものを | 見た。\n",
            "Xは | Yという -> ものを | 見た。\n",
            "Xは | Yを | 見た。\n",
            "Xで -> 始めて -> Yという\n",
            "Xで -> 始めて -> 人間という -> Yを\n",
            "Xという -> Yを\n"
          ],
          "name": "stdout"
        }
      ]
    }
  ]
}