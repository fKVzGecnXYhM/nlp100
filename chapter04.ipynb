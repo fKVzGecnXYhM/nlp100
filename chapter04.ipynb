{
  "nbformat": 4,
  "nbformat_minor": 0,
  "metadata": {
    "colab": {
      "name": "chapter04.ipynb",
      "provenance": [],
      "collapsed_sections": []
    },
    "kernelspec": {
      "name": "python3",
      "display_name": "Python 3"
    }
  },
  "cells": [
    {
      "cell_type": "markdown",
      "metadata": {
        "id": "QZRQ6oc6zmL3",
        "colab_type": "text"
      },
      "source": [
        "# 第4章: 形態素解析\n",
        "夏目漱石の小説『吾輩は猫である』の文章（neko.txt）をMeCabを使って形態素解析し，その結果をneko.txt.mecabというファイルに保存せよ．このファイルを用いて，以下の問に対応するプログラムを実装せよ．"
      ]
    },
    {
      "cell_type": "code",
      "metadata": {
        "id": "PXzCuUAl1JI9",
        "colab_type": "code",
        "colab": {}
      },
      "source": [
        "!wget https://nlp100.github.io/data/neko.txt"
      ],
      "execution_count": 0,
      "outputs": []
    },
    {
      "cell_type": "code",
      "metadata": {
        "id": "jNgXnfi81Kr9",
        "colab_type": "code",
        "colab": {}
      },
      "source": [
        "!apt install mecab libmecab-dev mecab-ipadic-utf8"
      ],
      "execution_count": 0,
      "outputs": []
    },
    {
      "cell_type": "code",
      "metadata": {
        "id": "e1K64W9y2VY-",
        "colab_type": "code",
        "colab": {}
      },
      "source": [
        "!mecab -o ./neko.txt.mecab ./neko.txt"
      ],
      "execution_count": 0,
      "outputs": []
    },
    {
      "cell_type": "code",
      "metadata": {
        "id": "DIVJF5m6WnGm",
        "colab_type": "code",
        "outputId": "71dd312d-b178-4ed4-9539-f87987d1babe",
        "colab": {
          "base_uri": "https://localhost:8080/",
          "height": 35
        }
      },
      "source": [
        "!wc -l ./neko.txt.mecab"
      ],
      "execution_count": 4,
      "outputs": [
        {
          "output_type": "stream",
          "text": [
            "216302 ./neko.txt.mecab\n"
          ],
          "name": "stdout"
        }
      ]
    },
    {
      "cell_type": "code",
      "metadata": {
        "id": "0KfX_cgYWreY",
        "colab_type": "code",
        "outputId": "83a66789-b655-4122-f811-cdcbb22271b0",
        "colab": {
          "base_uri": "https://localhost:8080/",
          "height": 197
        }
      },
      "source": [
        "!head -10 ./neko.txt.mecab"
      ],
      "execution_count": 5,
      "outputs": [
        {
          "output_type": "stream",
          "text": [
            "一\t名詞,数,*,*,*,*,一,イチ,イチ\n",
            "EOS\n",
            "EOS\n",
            "　\t記号,空白,*,*,*,*,　,　,　\n",
            "吾輩\t名詞,代名詞,一般,*,*,*,吾輩,ワガハイ,ワガハイ\n",
            "は\t助詞,係助詞,*,*,*,*,は,ハ,ワ\n",
            "猫\t名詞,一般,*,*,*,*,猫,ネコ,ネコ\n",
            "で\t助動詞,*,*,*,特殊・ダ,連用形,だ,デ,デ\n",
            "ある\t助動詞,*,*,*,五段・ラ行アル,基本形,ある,アル,アル\n",
            "。\t記号,句点,*,*,*,*,。,。,。\n"
          ],
          "name": "stdout"
        }
      ]
    },
    {
      "cell_type": "markdown",
      "metadata": {
        "id": "bZCzED2vzuPR",
        "colab_type": "text"
      },
      "source": [
        "## 30. 形態素解析結果の読み込み\n",
        "***\n",
        "形態素解析結果（neko.txt.mecab）を読み込むプログラムを実装せよ．ただし，各形態素は表層形（surface），基本形（base），品詞（pos），品詞細分類1（pos1）をキーとするマッピング型に格納し，1文を形態素（マッピング型）のリストとして表現せよ．第4章の残りの問題では，ここで作ったプログラムを活用せよ．"
      ]
    },
    {
      "cell_type": "code",
      "metadata": {
        "id": "zVEjIFvmQT7L",
        "colab_type": "code",
        "outputId": "5d616ba6-13a6-41d8-ecd1-aef238d9b7db",
        "colab": {
          "base_uri": "https://localhost:8080/",
          "height": 143
        }
      },
      "source": [
        "filename = './neko.txt.mecab'\n",
        "\n",
        "sentences = []\n",
        "morphs = []\n",
        "with open(filename, mode='r') as f:\n",
        "  for line in f:  # 1行ずつ読込\n",
        "    if line != 'EOS\\n':  # 文末以外：形態素解析情報を辞書型に格納して形態素リストに追加 \n",
        "      surface, attr = line.split('\\t')\n",
        "      attr = attr.split(',')\n",
        "      morph = {'surface': surface, 'base': attr[6], 'pos': attr[0], 'pos1': attr[1]}\n",
        "      morphs.append(morph)\n",
        "    else:  # 文末：形態素リストを文リストに追加\n",
        "      sentences.append(morphs)\n",
        "      morphs = []\n",
        "\n",
        "# 確認\n",
        "for morph in sentences[2]:\n",
        "  print(morph)"
      ],
      "execution_count": 6,
      "outputs": [
        {
          "output_type": "stream",
          "text": [
            "{'surface': '\\u3000', 'base': '\\u3000', 'pos': '記号', 'pos1': '空白'}\n",
            "{'surface': '吾輩', 'base': '吾輩', 'pos': '名詞', 'pos1': '代名詞'}\n",
            "{'surface': 'は', 'base': 'は', 'pos': '助詞', 'pos1': '係助詞'}\n",
            "{'surface': '猫', 'base': '猫', 'pos': '名詞', 'pos1': '一般'}\n",
            "{'surface': 'で', 'base': 'だ', 'pos': '助動詞', 'pos1': '*'}\n",
            "{'surface': 'ある', 'base': 'ある', 'pos': '助動詞', 'pos1': '*'}\n",
            "{'surface': '。', 'base': '。', 'pos': '記号', 'pos1': '句点'}\n"
          ],
          "name": "stdout"
        }
      ]
    },
    {
      "cell_type": "markdown",
      "metadata": {
        "id": "bofBhDZLzy5_",
        "colab_type": "text"
      },
      "source": [
        "## 31. 動詞\n",
        "***\n",
        "動詞の表層形をすべて抽出せよ．"
      ]
    },
    {
      "cell_type": "code",
      "metadata": {
        "id": "J8ew9yTRz2If",
        "colab_type": "code",
        "outputId": "efc88481-71cf-4d32-fa68-f71711f7960a",
        "colab": {
          "base_uri": "https://localhost:8080/",
          "height": 251
        }
      },
      "source": [
        "ans = set()\n",
        "for sentence in sentences:\n",
        "  for morph in sentence:\n",
        "    if morph['pos'] == '動詞':\n",
        "      ans.add(morph['surface'])  # set型なので重複しない要素のみ保持していく\n",
        "\n",
        "# 確認\n",
        "print(f'動詞の表層形の種類: {len(ans)}\\n')\n",
        "print('---サンプル---')\n",
        "for i in range(10):\n",
        "  print(list(ans)[i])"
      ],
      "execution_count": 7,
      "outputs": [
        {
          "output_type": "stream",
          "text": [
            "動詞の表層形の種類: 3893\n",
            "\n",
            "---サンプル---\n",
            "儲け\n",
            "忍ん\n",
            "並べる\n",
            "気がつい\n",
            "候え\n",
            "やい\n",
            "隔て\n",
            "保っ\n",
            "まつわっ\n",
            "から\n"
          ],
          "name": "stdout"
        }
      ]
    },
    {
      "cell_type": "markdown",
      "metadata": {
        "id": "p5DSX-wXz2rz",
        "colab_type": "text"
      },
      "source": [
        "## 32. 動詞の原形\n",
        "***\n",
        "動詞の原形をすべて抽出せよ．"
      ]
    },
    {
      "cell_type": "code",
      "metadata": {
        "id": "YDdEm0Evz6AF",
        "colab_type": "code",
        "outputId": "9ea69023-05a1-4343-ec25-4f26620e990d",
        "colab": {
          "base_uri": "https://localhost:8080/",
          "height": 251
        }
      },
      "source": [
        "ans = set()\n",
        "for sentence in sentences:\n",
        "  for morph in sentence:\n",
        "    if morph['pos'] == '動詞':\n",
        "      ans.add(morph['base'])\n",
        "\n",
        "# 確認\n",
        "print(f'動詞の原形の種類: {len(ans)}\\n')\n",
        "print('---サンプル---')\n",
        "for i in range(10):\n",
        "  print(list(ans)[i])"
      ],
      "execution_count": 8,
      "outputs": [
        {
          "output_type": "stream",
          "text": [
            "動詞の原形の種類: 2300\n",
            "\n",
            "---サンプル---\n",
            "並べる\n",
            "待ち受ける\n",
            "拗じる\n",
            "打てる\n",
            "応ずる\n",
            "引き受ける\n",
            "畳み込む\n",
            "刺し通す\n",
            "生える\n",
            "言い付ける\n"
          ],
          "name": "stdout"
        }
      ]
    },
    {
      "cell_type": "markdown",
      "metadata": {
        "id": "ot2yShm3z6l2",
        "colab_type": "text"
      },
      "source": [
        "## 33. 「AのB」\n",
        "***\n",
        "2つの名詞が「の」で連結されている名詞句を抽出せよ．"
      ]
    },
    {
      "cell_type": "code",
      "metadata": {
        "id": "SLRNpvh_Y3VV",
        "colab_type": "code",
        "outputId": "bc4d9465-6389-484c-89c3-d61628d06170",
        "colab": {
          "base_uri": "https://localhost:8080/",
          "height": 251
        }
      },
      "source": [
        "ans = set()\n",
        "for sentence in sentences:\n",
        "  for i in range(1, len(sentence) - 1):\n",
        "    if sentence[i - 1]['pos'] == '名詞' and sentence[i]['surface'] == 'の' and sentence[i + 1]['pos'] == '名詞':\n",
        "      ans.add(sentence[i - 1]['surface'] + sentence[i]['surface'] + sentence[i + 1]['surface'])\n",
        "\n",
        "# 確認\n",
        "print(f'「名詞+の+名詞」の種類: {len(ans)}\\n')\n",
        "print('---サンプル---')\n",
        "for i in range(10):\n",
        "  print(list(ans)[i])"
      ],
      "execution_count": 9,
      "outputs": [
        {
          "output_type": "stream",
          "text": [
            "「名詞+の+名詞」の種類: 4924\n",
            "\n",
            "---サンプル---\n",
            "辟易の体\n",
            "介の半面\n",
            "自分の嫌い\n",
            "警察の厄介\n",
            "法のうち\n",
            "事物の適\n",
            "世人の探偵\n",
            "護の恐れ\n",
            "二つの要素\n",
            "立てのフロック\n"
          ],
          "name": "stdout"
        }
      ]
    },
    {
      "cell_type": "markdown",
      "metadata": {
        "id": "Hsh_zjTyz_jq",
        "colab_type": "text"
      },
      "source": [
        "## 34. 名詞の連接\n",
        "***\n",
        "名詞の連接（連続して出現する名詞）を最長一致で抽出せよ．"
      ]
    },
    {
      "cell_type": "code",
      "metadata": {
        "id": "KKgjjSBmZZ1k",
        "colab_type": "code",
        "outputId": "d75a5df3-cca8-499d-f85c-df6d166e4036",
        "colab": {
          "base_uri": "https://localhost:8080/",
          "height": 251
        }
      },
      "source": [
        "ans = set()\n",
        "for sentence in sentences:\n",
        "  nouns = ''\n",
        "  num = 0\n",
        "  for i in range(len(sentence)):\n",
        "    if sentence[i]['pos'] == '名詞':  # 最初の形態素から順に、名詞であればnounsに連結し、連結数(num)をカウント\n",
        "      nouns = ''.join([nouns, sentence[i]['surface']])\n",
        "      num += 1\n",
        "    elif num >= 2:  # 名詞以外、かつここまでの連結数が2以上の場合は出力し、nounsとnumを初期化\n",
        "      ans.add(nouns)\n",
        "      nouns = ''\n",
        "      num = 0\n",
        "    else:  # それ以外の場合、nounsとnumを初期化\n",
        "      nouns = ''\n",
        "      num = 0\n",
        "\n",
        "# 確認\n",
        "print(f'連接名詞の種類: {len(ans)}\\n')\n",
        "print('---サンプル---')\n",
        "for i in range(10):\n",
        "  print(list(ans)[i])"
      ],
      "execution_count": 10,
      "outputs": [
        {
          "output_type": "stream",
          "text": [
            "連接名詞の種類: 4454\n",
            "\n",
            "---サンプル---\n",
            "かん猪口\n",
            "通り今日\n",
            "必竟世間\n",
            "二枚かけ\n",
            "君シャンパン\n",
            "近付\n",
            "ばかよう\n",
            "木槿垣\n",
            "今十年\n",
            "刺激以外\n"
          ],
          "name": "stdout"
        }
      ]
    },
    {
      "cell_type": "markdown",
      "metadata": {
        "id": "9tKKLA9c0E_J",
        "colab_type": "text"
      },
      "source": [
        "## 35. 単語の出現頻度\n",
        "***\n",
        "文章中に出現する単語とその出現頻度を求め，出現頻度の高い順に並べよ．"
      ]
    },
    {
      "cell_type": "code",
      "metadata": {
        "id": "Vm4-5kFo0Ibw",
        "colab_type": "code",
        "outputId": "d61158a3-dd6c-4772-a841-8b56db6bcdeb",
        "colab": {
          "base_uri": "https://localhost:8080/",
          "height": 107
        }
      },
      "source": [
        "from collections import defaultdict \n",
        "\n",
        "ans = defaultdict(int)\n",
        "for sentence in sentences:\n",
        "  for i in range(len(sentence)):\n",
        "    if sentence[i]['pos'] != '記号':\n",
        "      ans[sentence[i]['base']] += 1  # 単語数の更新(初登場の単語であれば1をセット)\n",
        "ans = sorted(ans.items(), key=lambda x: x[1], reverse=True)\n",
        "\n",
        "# 確認\n",
        "for i in range(5):\n",
        "  print(ans[i])"
      ],
      "execution_count": 11,
      "outputs": [
        {
          "output_type": "stream",
          "text": [
            "('の', 9194)\n",
            "('て', 6848)\n",
            "('は', 6420)\n",
            "('に', 6243)\n",
            "('を', 6071)\n"
          ],
          "name": "stdout"
        }
      ]
    },
    {
      "cell_type": "markdown",
      "metadata": {
        "id": "ooKypowr0I-t",
        "colab_type": "text"
      },
      "source": [
        "## 36. 頻度上位10語\n",
        "***\n",
        "出現頻度が高い10語とその出現頻度をグラフ（例えば棒グラフなど）で表示せよ．"
      ]
    },
    {
      "cell_type": "code",
      "metadata": {
        "id": "4fLA5hZVq5Dt",
        "colab_type": "code",
        "colab": {}
      },
      "source": [
        "!pip install japanize_matplotlib"
      ],
      "execution_count": 0,
      "outputs": []
    },
    {
      "cell_type": "code",
      "metadata": {
        "id": "1q-85P8H0Mju",
        "colab_type": "code",
        "outputId": "3907f058-00bc-48aa-d228-ad8020881131",
        "colab": {
          "base_uri": "https://localhost:8080/",
          "height": 318
        }
      },
      "source": [
        "import matplotlib.pyplot as plt\n",
        "import japanize_matplotlib\n",
        "\n",
        "ans = defaultdict(int)\n",
        "for sentence in sentences:\n",
        "  for i in range(len(sentence)):\n",
        "    if sentence[i]['pos'] != '記号':\n",
        "      ans[sentence[i]['base']] += 1  # 単語数の更新(初登場の単語であれば1をセット)\n",
        "ans = sorted(ans.items(), key=lambda x: x[1], reverse=True)\n",
        "\n",
        "keys = [a[0] for a in ans[0:10]]\n",
        "values = [a[1] for a in ans[0:10]]\n",
        "plt.figure(figsize=(8, 4))\n",
        "plt.bar(keys, values)\n",
        "plt.show()"
      ],
      "execution_count": 13,
      "outputs": [
        {
          "output_type": "stream",
          "text": [
            "/usr/local/lib/python3.6/dist-packages/japanize_matplotlib/japanize_matplotlib.py:15: MatplotlibDeprecationWarning: \n",
            "The createFontList function was deprecated in Matplotlib 3.2 and will be removed two minor releases later. Use FontManager.addfont instead.\n",
            "  font_list = font_manager.createFontList(font_files)\n"
          ],
          "name": "stderr"
        },
        {
          "output_type": "display_data",
          "data": {
            "image/png": "[encoded data removed]",
            "text/plain": [
              "<Figure size 576x288 with 1 Axes>"
            ]
          },
          "metadata": {
            "tags": [],
            "needs_background": "light"
          }
        }
      ]
    },
    {
      "cell_type": "markdown",
      "metadata": {
        "id": "ewpsjX3N0NGO",
        "colab_type": "text"
      },
      "source": [
        "## 37. 「猫」と共起頻度の高い上位10語\n",
        "***\n",
        "「猫」とよく共起する（共起頻度が高い）10語とその出現頻度をグラフ（例えば棒グラフなど）で表示せよ．"
      ]
    },
    {
      "cell_type": "code",
      "metadata": {
        "id": "AW4zvL-Z0Qql",
        "colab_type": "code",
        "outputId": "1e4bf9bf-f09a-4cdb-c253-12dae2971a04",
        "colab": {
          "base_uri": "https://localhost:8080/",
          "height": 264
        }
      },
      "source": [
        "ans = defaultdict(int)\n",
        "for sentence in sentences:\n",
        "  if '猫' in [morph['surface'] for morph in sentence]:  # 文章の形態素に「猫」が含まれる場合のみ辞書に追加\n",
        "    for i in range(len(sentence)):\n",
        "      if sentence[i]['pos'] != '記号':\n",
        "        ans[sentence[i]['base']] += 1  # 単語数の更新(初登場の単語であれば1をセット)\n",
        "del ans['猫']\n",
        "ans = sorted(ans.items(), key=lambda x: x[1], reverse=True)\n",
        "\n",
        "keys = [a[0] for a in ans[0:10]]\n",
        "values = [a[1] for a in ans[0:10]]\n",
        "plt.figure(figsize=(8, 4))\n",
        "plt.bar(keys, values)\n",
        "plt.show()"
      ],
      "execution_count": 14,
      "outputs": [
        {
          "output_type": "display_data",
          "data": {
            "image/png": "[encoded data removed]",
            "text/plain": [
              "<Figure size 576x288 with 1 Axes>"
            ]
          },
          "metadata": {
            "tags": [],
            "needs_background": "light"
          }
        }
      ]
    },
    {
      "cell_type": "markdown",
      "metadata": {
        "id": "5ekAuBXB0RNo",
        "colab_type": "text"
      },
      "source": [
        "## 38. ヒストグラム\n",
        "***\n",
        "単語の出現頻度のヒストグラム（横軸に出現頻度，縦軸に出現頻度をとる単語の種類数を棒グラフで表したもの）を描け．"
      ]
    },
    {
      "cell_type": "code",
      "metadata": {
        "id": "SfwByHgn0VfM",
        "colab_type": "code",
        "outputId": "9b1df063-beec-4ab9-95bb-441a997ddd4e",
        "colab": {
          "base_uri": "https://localhost:8080/",
          "height": 264
        }
      },
      "source": [
        "ans = defaultdict(int)\n",
        "for sentence in sentences:\n",
        "  for i in range(len(sentence)):\n",
        "    if sentence[i]['pos'] != '記号':\n",
        "      ans[sentence[i]['base']] += 1  # 単語数の更新(初登場の単語であれば1をセット)\n",
        "ans = ans.values()\n",
        "\n",
        "plt.figure(figsize=(8, 4))\n",
        "plt.hist(ans, bins=100)\n",
        "plt.show()"
      ],
      "execution_count": 15,
      "outputs": [
        {
          "output_type": "display_data",
          "data": {
            "image/png": "[encoded data removed]",
            "text/plain": [
              "<Figure size 576x288 with 1 Axes>"
            ]
          },
          "metadata": {
            "tags": [],
            "needs_background": "light"
          }
        }
      ]
    },
    {
      "cell_type": "markdown",
      "metadata": {
        "id": "gNTQBSNO0WD9",
        "colab_type": "text"
      },
      "source": [
        "## 39. Zipfの法則\n",
        "***\n",
        "単語の出現頻度順位を横軸，その出現頻度を縦軸として，両対数グラフをプロットせよ．"
      ]
    },
    {
      "cell_type": "code",
      "metadata": {
        "id": "tb0pgRj20aRU",
        "colab_type": "code",
        "outputId": "175d295b-b701-4122-f475-01c4a8a4b531",
        "colab": {
          "base_uri": "https://localhost:8080/",
          "height": 264
        }
      },
      "source": [
        "import math\n",
        "\n",
        "ans = defaultdict(int)\n",
        "for sentence in sentences:\n",
        "  for i in range(len(sentence)):\n",
        "    if sentence[i]['pos'] != '記号':\n",
        "      ans[sentence[i]['base']] += 1  # 単語数の更新(初登場の単語であれば1をセット)\n",
        "ans = sorted(ans.items(), key=lambda x: x[1], reverse=True)\n",
        "\n",
        "ranks = [math.log(r + 1) for r in range(len(ans))]\n",
        "values = [math.log(a[1]) for a in ans]\n",
        "plt.figure(figsize=(8, 4))\n",
        "plt.scatter(ranks, values)\n",
        "plt.show()"
      ],
      "execution_count": 16,
      "outputs": [
        {
          "output_type": "display_data",
          "data": {
            "image/png": "[encoded data removed]",
            "text/plain": [
              "<Figure size 576x288 with 1 Axes>"
            ]
          },
          "metadata": {
            "tags": [],
            "needs_background": "light"
          }
        }
      ]
    }
  ]
}