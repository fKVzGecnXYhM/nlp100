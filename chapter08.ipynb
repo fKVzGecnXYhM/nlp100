{
  "nbformat": 4,
  "nbformat_minor": 0,
  "metadata": {
    "colab": {
      "name": "chapter08.ipynb",
      "provenance": [],
      "collapsed_sections": [],
      "authorship_tag": "ABX9TyPQ6zafjFd40D+Gf8efLDo4"
    },
    "kernelspec": {
      "name": "python3",
      "display_name": "Python 3"
    },
    "accelerator": "GPU"
  },
  "cells": [
    {
      "cell_type": "markdown",
      "metadata": {
        "id": "iPTsG64n4nHa",
        "colab_type": "text"
      },
      "source": [
        "# 第8章: ニューラルネット\n",
        "第6章で取り組んだニュース記事のカテゴリ分類を題材として，ニューラルネットワークでカテゴリ分類モデルを実装する．なお，この章ではPyTorch, TensorFlow, Chainerなどの機械学習プラットフォームを活用せよ．"
      ]
    },
    {
      "cell_type": "markdown",
      "metadata": {
        "id": "h2KLRpGU4tVm",
        "colab_type": "text"
      },
      "source": [
        "## 70. 単語ベクトルの和による特徴量\n",
        "***\n",
        "問題50で構築した学習データ，検証データ，評価データを行列・ベクトルに変換したい．例えば，学習データについて，すべての事例$x_i$の特徴ベクトル$\\boldsymbol{x}_i$を並べた行列$X$と正解ラベルを並べた行列（ベクトル）$Y$を作成したい．\n",
        "\n",
        "$$\n",
        "X = \\begin{pmatrix} \n",
        "  \\boldsymbol{x}_1 \\\\ \n",
        "  \\boldsymbol{x}_2 \\\\ \n",
        "  \\dots \\\\ \n",
        "  \\boldsymbol{x}_n \\\\ \n",
        "\\end{pmatrix} \\in \\mathbb{R}^{n \\times d},\n",
        "Y = \\begin{pmatrix} \n",
        "  y_1 \\\\ \n",
        "  y_2 \\\\ \n",
        "  \\dots \\\\ \n",
        "  y_n \\\\ \n",
        "\\end{pmatrix} \\in \\mathbb{N}^{n}\n",
        "$$\n",
        "\n",
        "ここで，$n$は学習データの事例数であり，$\\boldsymbol x_i \\in \\mathbb{R}^d$と$y_i \\in \\mathbb N$はそれぞれ，$i \\in \\{1, \\dots, n\\}$番目の事例の特徴量ベクトルと正解ラベルを表す．\n",
        "なお，今回は「ビジネス」「科学技術」「エンターテイメント」「健康」の4カテゴリ分類である．$\\mathbb N_{<4}$で$4$未満の自然数（$0$を含む）を表すことにすれば，任意の事例の正解ラベル$y_i$は$y_i \\in \\mathbb N_{<4}$で表現できる．\n",
        "以降では，ラベルの種類数を$L$で表す（今回の分類タスクでは$L=4$である）．\n",
        "\n",
        "$i$番目の事例の特徴ベクトル$\\boldsymbol x_i$は，次式で求める．\n",
        "\n",
        "$$\\boldsymbol x_i = \\frac{1}{T_i} \\sum_{t=1}^{T_i} \\mathrm{emb}(w_{i,t})$$\n",
        "\n",
        "ここで，$i$番目の事例は$T_i$個の（記事見出しの）単語列$(w_{i,1}, w_{i,2}, \\dots, w_{i,T_i})$から構成され，$\\mathrm{emb}(w) \\in \\mathbb{R}^d$は単語$w$に対応する単語ベクトル（次元数は$d$）である．すなわち，$i$番目の事例の記事見出しを，その見出しに含まれる単語のベクトルの平均で表現したものが$\\boldsymbol x_i$である．今回は単語ベクトルとして，問題60でダウンロードしたものを用いればよい．$300$次元の単語ベクトルを用いたので，$d=300$である．\n",
        "$i$番目の事例のラベル$y_i$は，次のように定義する．\n",
        "\n",
        "$$\n",
        "y_i = \\begin{cases}\n",
        "0 & (\\mbox{記事}\\boldsymbol x_i\\mbox{が「ビジネス」カテゴリの場合}) \\\\\n",
        "1 & (\\mbox{記事}\\boldsymbol x_i\\mbox{が「科学技術」カテゴリの場合}) \\\\\n",
        "2 & (\\mbox{記事}\\boldsymbol x_i\\mbox{が「エンターテイメント」カテゴリの場合}) \\\\\n",
        "3 & (\\mbox{記事}\\boldsymbol x_i\\mbox{が「健康」カテゴリの場合}) \\\\\n",
        "\\end{cases}\n",
        "$$\n",
        "\n",
        "なお，カテゴリ名とラベルの番号が一対一で対応付いていれば，上式の通りの対応付けでなくてもよい．\n",
        "\n",
        "以上の仕様に基づき，以下の行列・ベクトルを作成し，ファイルに保存せよ．\n",
        "\n",
        "+ 学習データの特徴量行列: $X_{\\rm train} \\in \\mathbb{R}^{N_t \\times d}$\n",
        "+ 学習データのラベルベクトル: $Y_{\\rm train} \\in \\mathbb{N}^{N_t}$\n",
        "+ 検証データの特徴量行列: $X_{\\rm valid} \\in \\mathbb{R}^{N_v \\times d}$\n",
        "+ 検証データのラベルベクトル: $Y_{\\rm valid} \\in \\mathbb{N}^{N_v}$\n",
        "+ 評価データの特徴量行列: $X_{\\rm test} \\in \\mathbb{R}^{N_e \\times d}$\n",
        "+ 評価データのラベルベクトル: $Y_{\\rm test} \\in \\mathbb{N}^{N_e}$\n",
        "\n",
        "なお，$N_t, N_v, N_e$はそれぞれ，学習データの事例数，検証データの事例数，評価データの事例数である．\n"
      ]
    },
    {
      "cell_type": "code",
      "metadata": {
        "id": "SmTlGw_1BrPD",
        "colab_type": "code",
        "colab": {}
      },
      "source": [
        "!wget https://archive.ics.uci.edu/ml/machine-learning-databases/00359/NewsAggregatorDataset.zip\n",
        "!unzip NewsAggregatorDataset.zip"
      ],
      "execution_count": 0,
      "outputs": []
    },
    {
      "cell_type": "code",
      "metadata": {
        "id": "dB6K4TyCAQCJ",
        "colab_type": "code",
        "outputId": "f087a525-af03-4065-9de3-f04cfcfc9182",
        "colab": {
          "base_uri": "https://localhost:8080/",
          "height": 44
        }
      },
      "source": [
        "!wc -l ./newsCorpora.csv"
      ],
      "execution_count": 0,
      "outputs": [
        {
          "output_type": "stream",
          "text": [
            "422937 ./newsCorpora.csv\n"
          ],
          "name": "stdout"
        }
      ]
    },
    {
      "cell_type": "code",
      "metadata": {
        "id": "SUeo7V4jARyw",
        "colab_type": "code",
        "outputId": "71405118-cade-438e-d3c9-c8d40b5d30d8",
        "colab": {
          "base_uri": "https://localhost:8080/",
          "height": 240
        }
      },
      "source": [
        "!head -10 ./newsCorpora.csv"
      ],
      "execution_count": 0,
      "outputs": [
        {
          "output_type": "stream",
          "text": [
            "1\tFed official says weak data caused by weather, should not slow taper\thttp://www.latimes.com/business/money/la-fi-mo-federal-reserve-plosser-stimulus-economy-20140310,0,1312750.story\\?track=rss\tLos Angeles Times\tb\tddUyU0VZz0BRneMioxUPQVP6sIxvM\twww.latimes.com\t1394470370698\n",
            "2\tFed's Charles Plosser sees high bar for change in pace of tapering\thttp://www.livemint.com/Politics/H2EvwJSK2VE6OF7iK1g3PP/Feds-Charles-Plosser-sees-high-bar-for-change-in-pace-of-ta.html\tLivemint\tb\tddUyU0VZz0BRneMioxUPQVP6sIxvM\twww.livemint.com\t1394470371207\n",
            "3\tUS open: Stocks fall after Fed official hints at accelerated tapering\thttp://www.ifamagazine.com/news/us-open-stocks-fall-after-fed-official-hints-at-accelerated-tapering-294436\tIFA Magazine\tb\tddUyU0VZz0BRneMioxUPQVP6sIxvM\twww.ifamagazine.com\t1394470371550\n",
            "4\tFed risks falling 'behind the curve', Charles Plosser says\thttp://www.ifamagazine.com/news/fed-risks-falling-behind-the-curve-charles-plosser-says-294430\tIFA Magazine\tb\tddUyU0VZz0BRneMioxUPQVP6sIxvM\twww.ifamagazine.com\t1394470371793\n",
            "5\tFed's Plosser: Nasty Weather Has Curbed Job Growth\thttp://www.moneynews.com/Economy/federal-reserve-charles-plosser-weather-job-growth/2014/03/10/id/557011\tMoneynews\tb\tddUyU0VZz0BRneMioxUPQVP6sIxvM\twww.moneynews.com\t1394470372027\n",
            "6\tPlosser: Fed May Have to Accelerate Tapering Pace\thttp://www.nasdaq.com/article/plosser-fed-may-have-to-accelerate-tapering-pace-20140310-00371\tNASDAQ\tb\tddUyU0VZz0BRneMioxUPQVP6sIxvM\twww.nasdaq.com\t1394470372212\n",
            "7\tFed's Plosser: Taper pace may be too slow\thttp://www.marketwatch.com/story/feds-plosser-taper-pace-may-be-too-slow-2014-03-10\\?reflink=MW_news_stmp\tMarketWatch\tb\tddUyU0VZz0BRneMioxUPQVP6sIxvM\twww.marketwatch.com\t1394470372405\n",
            "8\tFed's Plosser expects US unemployment to fall to 6.2% by the end of 2014\thttp://www.fxstreet.com/news/forex-news/article.aspx\\?storyid=23285020-b1b5-47ed-a8c4-96124bb91a39\tFXstreet.com\tb\tddUyU0VZz0BRneMioxUPQVP6sIxvM\twww.fxstreet.com\t1394470372615\n",
            "9\tUS jobs growth last month hit by weather:Fed President Charles Plosser\thttp://economictimes.indiatimes.com/news/international/business/us-jobs-growth-last-month-hit-by-weatherfed-president-charles-plosser/articleshow/31788000.cms\tEconomic Times\tb\tddUyU0VZz0BRneMioxUPQVP6sIxvM\teconomictimes.indiatimes.com\t1394470372792\n",
            "10\tECB unlikely to end sterilisation of SMP purchases - traders\thttp://www.iii.co.uk/news-opinion/reuters/news/152615\tInteractive Investor\tb\tdPhGU51DcrolUIMxbRm0InaHGA2XM\twww.iii.co.uk\t1394470501265\n"
          ],
          "name": "stdout"
        }
      ]
    },
    {
      "cell_type": "code",
      "metadata": {
        "id": "dpukqu3JANOn",
        "colab_type": "code",
        "colab": {}
      },
      "source": [
        "# 読込時のエラー回避のためダブルクォーテーションをシングルクォーテーションに置換\n",
        "!sed -e 's/\"/'\\''/g' ./newsCorpora.csv > ./newsCorpora_re.csv"
      ],
      "execution_count": 0,
      "outputs": []
    },
    {
      "cell_type": "code",
      "metadata": {
        "id": "9ywtU3BPATTC",
        "colab_type": "code",
        "outputId": "87f1ad48-3453-47b9-84e9-d2238b73f698",
        "colab": {
          "base_uri": "https://localhost:8080/",
          "height": 323
        }
      },
      "source": [
        "import pandas as pd\n",
        "from sklearn.model_selection import train_test_split\n",
        "\n",
        "# データの読込\n",
        "df = pd.read_csv('./newsCorpora_re.csv', header=None, sep='\\t', names=['ID', 'TITLE', 'URL', 'PUBLISHER', 'CATEGORY', 'STORY', 'HOSTNAME', 'TIMESTAMP'])\n",
        "\n",
        "# データの抽出\n",
        "df = df.loc[df['PUBLISHER'].isin(['Reuters', 'Huffington Post', 'Businessweek', 'Contactmusic.com', 'Daily Mail']), ['TITLE', 'CATEGORY']]\n",
        "\n",
        "# データの分割\n",
        "train, valid_test = train_test_split(df, test_size=0.2, shuffle=True, random_state=123, stratify=df['CATEGORY'])\n",
        "valid, test = train_test_split(valid_test, test_size=0.5, shuffle=True, random_state=123, stratify=valid_test['CATEGORY'])\n",
        "\n",
        "# データの保存\n",
        "train.to_csv('./train.txt', sep='\\t', index=False)\n",
        "valid.to_csv('./valid.txt', sep='\\t', index=False)\n",
        "test.to_csv('./test.txt', sep='\\t', index=False)\n",
        "\n",
        "# 事例数の確認\n",
        "print('【学習データ】')\n",
        "print(train['CATEGORY'].value_counts())\n",
        "print('【検証データ】')\n",
        "print(valid['CATEGORY'].value_counts())\n",
        "print('【評価データ】')\n",
        "print(test['CATEGORY'].value_counts())"
      ],
      "execution_count": 0,
      "outputs": [
        {
          "output_type": "stream",
          "text": [
            "【学習データ】\n",
            "b    4501\n",
            "e    4235\n",
            "t    1220\n",
            "m     728\n",
            "Name: CATEGORY, dtype: int64\n",
            "【検証データ】\n",
            "b    563\n",
            "e    529\n",
            "t    153\n",
            "m     91\n",
            "Name: CATEGORY, dtype: int64\n",
            "【評価データ】\n",
            "b    563\n",
            "e    530\n",
            "t    152\n",
            "m     91\n",
            "Name: CATEGORY, dtype: int64\n"
          ],
          "name": "stdout"
        }
      ]
    },
    {
      "cell_type": "code",
      "metadata": {
        "id": "vO0UOr25AeUP",
        "colab_type": "code",
        "colab": {}
      },
      "source": [
        "# 学習済み単語ベクトルのダウンロード\n",
        "FILE_ID = \"0B7XkCwpI5KDYNlNUTTlSS21pQmM\"\n",
        "FILE_NAME = \"GoogleNews-vectors-negative300.bin.gz\"\n",
        "!wget --load-cookies /tmp/cookies.txt \"https://docs.google.com/uc?export=download&confirm=$(wget --quiet --save-cookies /tmp/cookies.txt --keep-session-cookies --no-check-certificate 'https://docs.google.com/uc?export=download&id=$FILE_ID' -O- | sed -rn 's/.*confirm=([0-9A-Za-z_]+).*/\\1\\n/p')&id=$FILE_ID\" -O $FILE_NAME && rm -rf /tmp/cookies.txt"
      ],
      "execution_count": 0,
      "outputs": []
    },
    {
      "cell_type": "code",
      "metadata": {
        "id": "oHPAKdg-BdDC",
        "colab_type": "code",
        "colab": {}
      },
      "source": [
        "from gensim.models import KeyedVectors\n",
        "\n",
        "# 学習済みモデルのロード\n",
        "model = KeyedVectors.load_word2vec_format('./GoogleNews-vectors-negative300.bin.gz', binary=True)"
      ],
      "execution_count": 0,
      "outputs": []
    },
    {
      "cell_type": "code",
      "metadata": {
        "id": "NQZGRL-0Xy-M",
        "colab_type": "code",
        "colab": {}
      },
      "source": [
        "import string\n",
        "import torch\n",
        "\n",
        "def transform_w2v(text):\n",
        "  table = str.maketrans(string.punctuation, ' '*len(string.punctuation))\n",
        "  words = text.translate(table).split()  # 記号をスペースに置換後、スペースで分割してリスト化\n",
        "  vec = [model[word] for word in words if word in model]  # 1語ずつベクトル化\n",
        "\n",
        "  return torch.tensor(sum(vec) / len(vec))  # 平均ベクトルをTensor型に変換して出力"
      ],
      "execution_count": 0,
      "outputs": []
    },
    {
      "cell_type": "code",
      "metadata": {
        "id": "HT9kkVBaEL-q",
        "colab_type": "code",
        "outputId": "dcda2abe-e462-406b-a281-15753967acac",
        "colab": {
          "base_uri": "https://localhost:8080/",
          "height": 153
        }
      },
      "source": [
        "# 特徴ベクトルの作成\n",
        "X_train = torch.stack([transform_w2v(text) for text in train['TITLE']])\n",
        "X_valid = torch.stack([transform_w2v(text) for text in valid['TITLE']])\n",
        "X_test = torch.stack([transform_w2v(text) for text in test['TITLE']])\n",
        "\n",
        "print(X_train.size())\n",
        "print(X_train)"
      ],
      "execution_count": 0,
      "outputs": [
        {
          "output_type": "stream",
          "text": [
            "torch.Size([10684, 300])\n",
            "tensor([[ 0.0837,  0.0056,  0.0068,  ...,  0.0751,  0.0433, -0.0868],\n",
            "        [ 0.0272,  0.0266, -0.0947,  ..., -0.1046, -0.0489, -0.0092],\n",
            "        [ 0.0577, -0.0159, -0.0780,  ..., -0.0421,  0.1229,  0.0876],\n",
            "        ...,\n",
            "        [ 0.0392, -0.0052,  0.0686,  ..., -0.0175,  0.0061, -0.0224],\n",
            "        [ 0.0798,  0.1017,  0.1066,  ..., -0.0752,  0.0623,  0.1138],\n",
            "        [ 0.1664,  0.0451,  0.0508,  ..., -0.0531, -0.0183, -0.0039]])\n"
          ],
          "name": "stdout"
        }
      ]
    },
    {
      "cell_type": "code",
      "metadata": {
        "id": "knjF3W5JEPlt",
        "colab_type": "code",
        "outputId": "10c2b30e-3808-4d11-b582-79d87f4e413e",
        "colab": {
          "base_uri": "https://localhost:8080/",
          "height": 51
        }
      },
      "source": [
        "# ラベルベクトルの作成\n",
        "category_dict = {'b': 0, 't': 1, 'e':2, 'm':3}\n",
        "y_train = torch.tensor(train['CATEGORY'].map(lambda x: category_dict[x]).values)\n",
        "y_valid = torch.tensor(valid['CATEGORY'].map(lambda x: category_dict[x]).values)\n",
        "y_test = torch.tensor(test['CATEGORY'].map(lambda x: category_dict[x]).values)\n",
        "\n",
        "print(y_train.size())\n",
        "print(y_train)"
      ],
      "execution_count": 0,
      "outputs": [
        {
          "output_type": "stream",
          "text": [
            "torch.Size([10684])\n",
            "tensor([0, 1, 3,  ..., 0, 3, 2])\n"
          ],
          "name": "stdout"
        }
      ]
    },
    {
      "cell_type": "code",
      "metadata": {
        "id": "AwOvPAp-IPfd",
        "colab_type": "code",
        "colab": {}
      },
      "source": [
        "# 保存\n",
        "torch.save(X_train, 'X_train.pt')\n",
        "torch.save(X_valid, 'X_valid.pt')\n",
        "torch.save(X_test, 'X_test.pt')\n",
        "torch.save(y_train, 'y_train.pt')\n",
        "torch.save(y_valid, 'y_valid.pt')\n",
        "torch.save(y_test, 'y_test.pt')"
      ],
      "execution_count": 0,
      "outputs": []
    },
    {
      "cell_type": "markdown",
      "metadata": {
        "id": "vXDSM3xI5Rf7",
        "colab_type": "text"
      },
      "source": [
        "## 71. 単層ニューラルネットワークによる予測\n",
        "***\n",
        "問題70で保存した行列を読み込み，学習データについて以下の計算を実行せよ．\n",
        "\n",
        "$$\n",
        "\\hat{y}_1=softmax(x_1W),\\\\\\hat{Y}=softmax(X_{[1:4]}W)\n",
        "$$\n",
        "\n",
        "ただし，$softmax$はソフトマックス関数，$X_{[1:4]}∈\\mathbb{R}^{4×d}$は特徴ベクトル$x_1$,$x_2$,$x_3$,$x_4$を縦に並べた行列である．\n",
        "\n",
        "$$\n",
        "X_{[1:4]}=\\begin{pmatrix}x_1\\\\x_2\\\\x_3\\\\x_4\\end{pmatrix}\n",
        "$$\n",
        "\n",
        "行列$W \\in \\mathbb{R}^{d \\times L}$は単層ニューラルネットワークの重み行列で，ここではランダムな値で初期化すればよい（問題73以降で学習して求める）．なお，$\\hat{\\boldsymbol y_1} \\in \\mathbb{R}^L$は未学習の行列$W$で事例$x_1$を分類したときに，各カテゴリに属する確率を表すベクトルである．\n",
        "同様に，$\\hat{Y} \\in \\mathbb{R}^{n \\times L}$は，学習データの事例$x_1, x_2, x_3, x_4$について，各カテゴリに属する確率を行列として表現している．\n",
        "\n"
      ]
    },
    {
      "cell_type": "code",
      "metadata": {
        "id": "lsXmUzagMkGH",
        "colab_type": "code",
        "colab": {}
      },
      "source": [
        "from torch import nn\n",
        "torch.manual_seed(0)\n",
        "\n",
        "class SLPNet(nn.Module):\n",
        "  def __init__(self, input_size, output_size):\n",
        "    super().__init__()\n",
        "    self.fc = nn.Linear(input_size, output_size, bias=False)  # Linear(入力次元数, 出力次元数)\n",
        "    nn.init.normal_(self.fc.weight, 0.0, 1.0)  # 正規乱数で重みを初期化\n",
        "\n",
        "  def forward(self, x):\n",
        "    x = self.fc(x)\n",
        "    return x"
      ],
      "execution_count": 0,
      "outputs": []
    },
    {
      "cell_type": "code",
      "metadata": {
        "id": "W3oMZllHP_tL",
        "colab_type": "code",
        "outputId": "81c4bea7-3657-4be3-f3ee-b863b6debb43",
        "colab": {
          "base_uri": "https://localhost:8080/",
          "height": 34
        }
      },
      "source": [
        "model = SLPNet(300, 4)\n",
        "y_hat_1 = torch.softmax(model.forward(X_train[:1]), dim=-1)\n",
        "print(y_hat_1)"
      ],
      "execution_count": 0,
      "outputs": [
        {
          "output_type": "stream",
          "text": [
            "tensor([[0.4273, 0.0958, 0.2492, 0.2277]], grad_fn=<SoftmaxBackward>)\n"
          ],
          "name": "stdout"
        }
      ]
    },
    {
      "cell_type": "code",
      "metadata": {
        "id": "04obRw26eYqV",
        "colab_type": "code",
        "outputId": "86b2f575-71d6-41b5-b801-7078c12a38d4",
        "colab": {
          "base_uri": "https://localhost:8080/",
          "height": 85
        }
      },
      "source": [
        "Y_hat = torch.softmax(model.forward(X_train[:4]), dim=-1)\n",
        "print(Y_hat)"
      ],
      "execution_count": 0,
      "outputs": [
        {
          "output_type": "stream",
          "text": [
            "tensor([[0.4273, 0.0958, 0.2492, 0.2277],\n",
            "        [0.2445, 0.2431, 0.0197, 0.4927],\n",
            "        [0.7853, 0.1132, 0.0291, 0.0724],\n",
            "        [0.5279, 0.2319, 0.0873, 0.1529]], grad_fn=<SoftmaxBackward>)\n"
          ],
          "name": "stdout"
        }
      ]
    },
    {
      "cell_type": "markdown",
      "metadata": {
        "id": "7Ph2yFA45fKk",
        "colab_type": "text"
      },
      "source": [
        "## 72. 損失と勾配の計算\n",
        "***\n",
        "学習データの事例$x_1$と事例集合$x_1$,$x_2$,$x_3$,$x_4$に対して，クロスエントロピー損失と，行列$W$に対する勾配を計算せよ．なお，ある事例$x_i$に対して損失は次式で計算される．\n",
        "\n",
        "$$l_i=−log[事例x_iがy_iに分類される確率]$$\n",
        "\n",
        "ただし，事例集合に対するクロスエントロピー損失は，その集合に含まれる各事例の損失の平均とする．"
      ]
    },
    {
      "cell_type": "code",
      "metadata": {
        "id": "hvPpkbMufffU",
        "colab_type": "code",
        "colab": {}
      },
      "source": [
        "criterion = nn.CrossEntropyLoss()"
      ],
      "execution_count": 0,
      "outputs": []
    },
    {
      "cell_type": "code",
      "metadata": {
        "id": "oW1r1hU65noO",
        "colab_type": "code",
        "outputId": "2ca0a6f7-c4cf-4c7e-be09-7d5fa0f0bb72",
        "colab": {
          "base_uri": "https://localhost:8080/",
          "height": 119
        }
      },
      "source": [
        "l_1 = criterion(model.forward(X_train[:1]), y_train[:1])  # 入力ベクトルはsoftmax前の値\n",
        "model.zero_grad()  # 勾配をゼロで初期化\n",
        "l_1.backward()  # 勾配を計算\n",
        "print(f'損失: {l_1:.4f}')\n",
        "print(f'勾配:\\n{model.fc.weight.grad}')"
      ],
      "execution_count": 0,
      "outputs": [
        {
          "output_type": "stream",
          "text": [
            "損失: 2.9706\n",
            "勾配:\n",
            "tensor([[-0.0794, -0.0053, -0.0065,  ..., -0.0713, -0.0411,  0.0823],\n",
            "        [ 0.0022,  0.0001,  0.0002,  ...,  0.0020,  0.0011, -0.0023],\n",
            "        [ 0.0611,  0.0041,  0.0050,  ...,  0.0549,  0.0316, -0.0634],\n",
            "        [ 0.0161,  0.0011,  0.0013,  ...,  0.0144,  0.0083, -0.0167]])\n"
          ],
          "name": "stdout"
        }
      ]
    },
    {
      "cell_type": "code",
      "metadata": {
        "id": "L7f9IQKLgbH6",
        "colab_type": "code",
        "outputId": "b6051e77-dc56-45dc-f9a4-df2b91d29a29",
        "colab": {
          "base_uri": "https://localhost:8080/",
          "height": 119
        }
      },
      "source": [
        "l = criterion(model.forward(X_train[:4]), y_train[:4])\n",
        "model.zero_grad()\n",
        "l.backward()\n",
        "print(f'損失: {l:.4f}')\n",
        "print(f'勾配:\\n{model.fc.weight.grad}')"
      ],
      "execution_count": 0,
      "outputs": [
        {
          "output_type": "stream",
          "text": [
            "損失: 3.0799\n",
            "勾配:\n",
            "tensor([[-0.0207,  0.0079, -0.0090,  ..., -0.0350, -0.0003,  0.0232],\n",
            "        [-0.0055, -0.0063,  0.0225,  ...,  0.0252,  0.0166,  0.0039],\n",
            "        [ 0.0325, -0.0089, -0.0215,  ...,  0.0084,  0.0122, -0.0030],\n",
            "        [-0.0063,  0.0072,  0.0081,  ...,  0.0014, -0.0285, -0.0241]])\n"
          ],
          "name": "stdout"
        }
      ]
    },
    {
      "cell_type": "markdown",
      "metadata": {
        "id": "82tY9cQC5wsy",
        "colab_type": "text"
      },
      "source": [
        "## 73. 確率的勾配降下法による学習\n",
        "***\n",
        "確率的勾配降下法（SGD: Stochastic Gradient Descent）を用いて，行列$W$を学習せよ．なお，学習は適当な基準で終了させればよい（例えば「100エポックで終了」など）．"
      ]
    },
    {
      "cell_type": "code",
      "metadata": {
        "id": "thm2knQo5WhQ",
        "colab_type": "code",
        "colab": {}
      },
      "source": [
        "from torch.utils.data import Dataset\n",
        "\n",
        "class CreateDataset(Dataset):\n",
        "    def __init__(self, X, y):  # datasetの構成要素を指定\n",
        "        self.X = X\n",
        "        self.y = y\n",
        "\n",
        "    def __len__(self):  # len(dataset)で返す値を指定\n",
        "        return len(self.y)\n",
        "\n",
        "    def __getitem__(self, idx):  # dataset[idx]で返す値を指定\n",
        "        if isinstance(idx, torch.Tensor):\n",
        "            idx = idx.tolist()\n",
        "        return [self.X[idx], self.y[idx]]"
      ],
      "execution_count": 0,
      "outputs": []
    },
    {
      "cell_type": "code",
      "metadata": {
        "id": "-TlxGSU47AwY",
        "colab_type": "code",
        "outputId": "8fa249b5-6c95-4e07-c04a-312f9a408f35",
        "colab": {
          "base_uri": "https://localhost:8080/",
          "height": 1000
        }
      },
      "source": [
        "from torch.utils.data import DataLoader\n",
        "\n",
        "dataset_train = CreateDataset(X_train, y_train)\n",
        "dataset_valid = CreateDataset(X_valid, y_valid)\n",
        "dataset_test = CreateDataset(X_test, y_test)\n",
        "dataloader_train = DataLoader(dataset_train, batch_size=1, shuffle=True)\n",
        "dataloader_valid = DataLoader(dataset_valid, batch_size=len(dataset_valid), shuffle=False)\n",
        "dataloader_test = DataLoader(dataset_test, batch_size=len(dataset_test), shuffle=False)\n",
        "\n",
        "print(len(dataset_train))\n",
        "print(next(iter(dataloader_train)))"
      ],
      "execution_count": 0,
      "outputs": [
        {
          "output_type": "stream",
          "text": [
            "10684\n",
            "[tensor([[-2.2791e-02, -1.6650e-02,  1.2573e-02,  1.1694e-02, -2.0509e-02,\n",
            "         -4.1607e-02, -1.1132e-01, -4.7964e-02,  7.6147e-02,  9.4415e-02,\n",
            "         -3.7549e-02,  7.2437e-02, -3.8168e-02,  7.9443e-02, -6.0207e-02,\n",
            "         -5.1074e-02, -1.8954e-02,  7.6978e-02,  8.1055e-02, -8.3789e-02,\n",
            "         -1.3208e-02,  2.0891e-01,  9.6887e-02, -2.3356e-02, -7.3456e-02,\n",
            "          5.9668e-02, -4.8009e-02,  8.0090e-02,  2.8123e-02, -1.6791e-02,\n",
            "          2.0227e-02, -9.6387e-02,  1.6510e-02, -1.6281e-02, -4.0601e-02,\n",
            "         -8.2489e-02,  9.8975e-02,  1.4099e-03,  1.4362e-02,  3.9368e-02,\n",
            "          7.6392e-02, -1.3135e-01,  1.3572e-01, -1.4496e-03, -8.1097e-02,\n",
            "         -6.5753e-02, -9.6622e-02,  2.0679e-02,  4.8145e-02,  5.0012e-02,\n",
            "          7.2842e-02,  4.8761e-02,  4.9164e-02,  1.1853e-01,  2.7307e-02,\n",
            "         -6.8723e-02,  4.0675e-02, -2.6984e-02, -1.6510e-02, -1.6882e-01,\n",
            "          5.8417e-02, -2.1912e-02, -4.8096e-02, -9.4360e-02, -6.9186e-02,\n",
            "         -1.2361e-02, -7.6489e-02,  5.1843e-02,  1.5080e-01,  5.7861e-03,\n",
            "         -6.3660e-02, -9.0894e-02,  1.1075e-01,  3.5229e-02, -1.0220e-01,\n",
            "         -2.4133e-02,  1.8951e-02,  1.0651e-01,  1.5167e-02,  8.7891e-03,\n",
            "         -5.8649e-02, -4.8902e-02, -1.7447e-02, -5.0873e-03,  2.0083e-02,\n",
            "         -3.3643e-02, -1.1077e-01,  9.6948e-02, -4.5068e-02, -4.8102e-02,\n",
            "          1.9116e-02, -1.7224e-02, -1.0402e-01, -4.5465e-02, -3.8379e-02,\n",
            "         -1.8384e-02,  6.0464e-02, -1.7932e-02,  8.9215e-02, -6.3168e-02,\n",
            "          1.6414e-02, -4.4244e-02,  6.6852e-02,  8.0658e-03, -7.7148e-02,\n",
            "         -1.0146e-01, -1.1623e-01,  1.1017e-02, -2.3859e-02, -5.6921e-02,\n",
            "         -8.0200e-03,  3.2812e-02, -2.6733e-02, -6.9550e-03,  8.5193e-02,\n",
            "         -1.1182e-02, -1.3623e-02, -4.4067e-02,  1.0166e-01,  9.5972e-02,\n",
            "          1.8344e-02,  5.8070e-02,  4.4479e-04,  5.7736e-02,  8.2104e-02,\n",
            "         -4.7461e-02,  1.7114e-02, -2.7600e-02, -8.2092e-03,  6.6895e-02,\n",
            "          3.8300e-02, -1.7280e-01,  1.5320e-02, -9.0527e-02, -5.0513e-02,\n",
            "         -9.0625e-02, -3.4372e-02,  4.9023e-02, -1.0402e-01,  5.3085e-02,\n",
            "          1.6299e-01, -2.0200e-01,  6.9128e-02, -3.4766e-02, -1.2520e-01,\n",
            "          4.7406e-02,  3.7939e-02, -2.7258e-02,  4.7699e-03, -4.1489e-02,\n",
            "          1.5836e-01, -3.4470e-02,  7.9187e-02,  7.0186e-02, -9.9365e-03,\n",
            "          5.1636e-03, -7.1176e-02, -6.1713e-02, -1.4331e-02, -7.9578e-02,\n",
            "          2.8979e-02,  4.8320e-02,  6.1710e-02,  6.6895e-03,  3.5571e-02,\n",
            "         -2.9993e-02,  1.0642e-01,  7.7972e-03,  3.1024e-02, -3.0566e-02,\n",
            "         -1.3335e-01,  4.5648e-02,  2.7258e-02, -1.3228e-01, -3.9993e-03,\n",
            "         -4.0796e-02, -1.0620e-02,  2.3071e-02,  1.1028e-01, -7.1956e-02,\n",
            "         -1.2183e-01, -1.0478e-01, -5.9741e-02, -1.5576e-02, -5.0122e-02,\n",
            "         -1.0491e-01,  6.6578e-02,  8.7109e-02,  7.7832e-02,  7.1664e-02,\n",
            "         -1.4240e-02,  1.6156e-02,  9.9219e-02,  3.7555e-02, -1.4541e-01,\n",
            "          7.7380e-02, -7.4424e-02, -1.5622e-02, -7.6538e-02, -1.1675e-01,\n",
            "         -7.0117e-02, -2.4982e-02, -2.1033e-02, -1.0903e-01, -7.1951e-02,\n",
            "         -7.8564e-02, -3.1067e-02, -1.0606e-02,  9.1476e-02, -1.1772e-01,\n",
            "         -7.9239e-02,  1.0401e-01, -5.2237e-02,  5.0278e-02, -9.8535e-02,\n",
            "          1.4659e-02,  5.7626e-02, -3.9384e-02, -2.1252e-01,  4.3774e-02,\n",
            "          3.9404e-02,  9.2145e-02, -9.3225e-02, -4.1455e-02, -1.4404e-02,\n",
            "          5.6091e-03,  8.7646e-03, -3.4631e-02, -1.5869e-03,  3.8266e-02,\n",
            "         -7.5806e-03,  2.2644e-02,  9.0625e-02, -8.6884e-03, -2.5506e-02,\n",
            "          1.8097e-03,  1.1675e-01, -5.1315e-02,  4.1077e-02, -5.5695e-03,\n",
            "          2.9001e-02,  3.6060e-02, -8.0099e-02, -8.0518e-02, -9.3018e-03,\n",
            "         -3.3798e-02,  1.8066e-02,  9.7656e-03,  5.8420e-02, -1.0171e-01,\n",
            "         -5.9680e-02,  7.2296e-02, -4.7632e-02,  4.5984e-02, -6.7035e-02,\n",
            "         -5.9448e-02,  6.5326e-02,  9.1699e-02,  3.5828e-02, -3.7921e-02,\n",
            "         -1.2726e-03,  4.9103e-02,  2.4626e-02,  8.0011e-02, -1.2207e-05,\n",
            "          1.6797e-01, -6.0141e-02, -1.0533e-01,  1.0718e-02,  4.2593e-02,\n",
            "         -3.4094e-02,  8.3630e-02,  3.6023e-02, -4.1527e-02,  4.7495e-02,\n",
            "          2.9892e-03, -9.2068e-03,  2.6147e-02, -3.7276e-02,  8.0615e-02,\n",
            "         -8.7317e-02, -1.7491e-02,  2.1057e-02,  1.0767e-01,  4.3916e-02,\n",
            "         -3.1616e-03, -1.0800e-01,  2.4817e-02,  1.6101e-02,  5.0292e-02,\n",
            "         -8.6255e-02, -5.5252e-03, -4.6820e-02,  5.6238e-02,  8.2507e-02,\n",
            "          5.3406e-03,  8.2825e-03,  2.1946e-02,  2.3987e-03, -4.1766e-02]]), tensor([0])]\n"
          ],
          "name": "stdout"
        }
      ]
    },
    {
      "cell_type": "code",
      "metadata": {
        "id": "Ef6BcfQT-8jd",
        "colab_type": "code",
        "outputId": "838b3c9e-de9b-424e-a615-bbe752983815",
        "colab": {
          "base_uri": "https://localhost:8080/",
          "height": 187
        }
      },
      "source": [
        "# モデルの定義\n",
        "model = SLPNet(300, 4)\n",
        "\n",
        "# 損失関数の定義\n",
        "criterion = nn.CrossEntropyLoss()\n",
        "\n",
        "# オプティマイザの定義\n",
        "optimizer = torch.optim.SGD(model.parameters(), lr=1e-1)\n",
        "\n",
        "# 学習\n",
        "num_epochs = 10\n",
        "for epoch in range(num_epochs):\n",
        "  # 訓練モードに設定\n",
        "  model.train()\n",
        "  loss_train = 0.0\n",
        "  for i, (inputs, labels) in enumerate(dataloader_train):\n",
        "    # 勾配をゼロで初期化\n",
        "    optimizer.zero_grad()\n",
        "\n",
        "    # 順伝播 + 誤差逆伝播 + 重み更新\n",
        "    outputs = model.forward(inputs)\n",
        "    loss = criterion(outputs, labels)\n",
        "    loss.backward()\n",
        "    optimizer.step()\n",
        "\n",
        "    # 損失を記録\n",
        "    loss_train += loss.item()\n",
        " \n",
        "  # バッチ単位の平均損失計算\n",
        "  loss_train = loss_train / i\n",
        "\n",
        "  # 検証データの損失計算\n",
        "  model.eval() \n",
        "  with torch.no_grad():\n",
        "    inputs, labels = next(iter(dataloader_valid))\n",
        "    outputs = model.forward(inputs)\n",
        "    loss_valid = criterion(outputs, labels)\n",
        "\n",
        "  # ログを出力\n",
        "  print(f'epoch: {epoch + 1}, loss_train: {loss_train:.4f}, loss_valid: {loss_valid:.4f}')  "
      ],
      "execution_count": 0,
      "outputs": [
        {
          "output_type": "stream",
          "text": [
            "epoch: 1, loss_train: 0.4745, loss_valid: 0.3637\n",
            "epoch: 2, loss_train: 0.3173, loss_valid: 0.3306\n",
            "epoch: 3, loss_train: 0.2884, loss_valid: 0.3208\n",
            "epoch: 4, loss_train: 0.2716, loss_valid: 0.3150\n",
            "epoch: 5, loss_train: 0.2615, loss_valid: 0.3141\n",
            "epoch: 6, loss_train: 0.2519, loss_valid: 0.3092\n",
            "epoch: 7, loss_train: 0.2474, loss_valid: 0.3114\n",
            "epoch: 8, loss_train: 0.2431, loss_valid: 0.3072\n",
            "epoch: 9, loss_train: 0.2393, loss_valid: 0.3096\n",
            "epoch: 10, loss_train: 0.2359, loss_valid: 0.3219\n"
          ],
          "name": "stdout"
        }
      ]
    },
    {
      "cell_type": "markdown",
      "metadata": {
        "id": "mI8cqXg450yu",
        "colab_type": "text"
      },
      "source": [
        "## 74. 正解率の計測\n",
        "***\n",
        "問題73で求めた行列を用いて学習データおよび評価データの事例を分類したとき，その正解率をそれぞれ求めよ．"
      ]
    },
    {
      "cell_type": "code",
      "metadata": {
        "id": "FYRYNeB5-6ei",
        "colab_type": "code",
        "colab": {}
      },
      "source": [
        "def calculate_accuracy(model, loader):\n",
        "  model.eval()\n",
        "  total = 0\n",
        "  correct = 0\n",
        "  with torch.no_grad():\n",
        "    for inputs, labels in loader:\n",
        "      outputs = model(inputs)\n",
        "      pred = torch.argmax(outputs, dim=-1)\n",
        "      total += len(inputs)\n",
        "      correct += (pred == labels).sum().item()\n",
        "      \n",
        "  return correct / total"
      ],
      "execution_count": 0,
      "outputs": []
    },
    {
      "cell_type": "code",
      "metadata": {
        "id": "5pANKBTEKisM",
        "colab_type": "code",
        "outputId": "4e398f7a-c787-4085-c722-e1e4b464b73a",
        "colab": {
          "base_uri": "https://localhost:8080/",
          "height": 51
        }
      },
      "source": [
        "acc_train = calculate_accuracy(model, dataloader_train)\n",
        "acc_test = calculate_accuracy(model, dataloader_test)\n",
        "print(f'正解率（学習データ）：{acc_train:.3f}')\n",
        "print(f'正解率（評価データ）：{acc_test:.3f}')"
      ],
      "execution_count": 0,
      "outputs": [
        {
          "output_type": "stream",
          "text": [
            "正解率（学習データ）：0.920\n",
            "正解率（評価データ）：0.891\n"
          ],
          "name": "stdout"
        }
      ]
    },
    {
      "cell_type": "markdown",
      "metadata": {
        "id": "5pJZg6qk56Ag",
        "colab_type": "text"
      },
      "source": [
        "## 75. 損失と正解率のプロット\n",
        "***\n",
        "問題73のコードを改変し，各エポックのパラメータ更新が完了するたびに，訓練データでの損失，正解率，検証データでの損失，正解率をグラフにプロットし，学習の進捗状況を確認できるようにせよ．"
      ]
    },
    {
      "cell_type": "code",
      "metadata": {
        "id": "sYabMIiqXwUT",
        "colab_type": "code",
        "colab": {}
      },
      "source": [
        "def calculate_loss_and_accuracy(model, criterion, loader):\n",
        "  model.eval()\n",
        "  loss = 0.0\n",
        "  total = 0\n",
        "  correct = 0\n",
        "  with torch.no_grad():\n",
        "    for inputs, labels in loader:\n",
        "      outputs = model(inputs)\n",
        "      loss += criterion(outputs, labels).item()\n",
        "      pred = torch.argmax(outputs, dim=-1)\n",
        "      total += len(inputs)\n",
        "      correct += (pred == labels).sum().item()\n",
        "      \n",
        "  return loss / len(loader), correct / total"
      ],
      "execution_count": 0,
      "outputs": []
    },
    {
      "cell_type": "code",
      "metadata": {
        "id": "o8DQzJxELzur",
        "colab_type": "code",
        "outputId": "5214c3f2-6078-4540-d833-fab1e011eab0",
        "colab": {
          "base_uri": "https://localhost:8080/",
          "height": 527
        }
      },
      "source": [
        "# モデルの定義\n",
        "model = SLPNet(300, 4)\n",
        "\n",
        "# 損失関数の定義\n",
        "criterion = nn.CrossEntropyLoss()\n",
        "\n",
        "# オプティマイザの定義\n",
        "optimizer = torch.optim.SGD(model.parameters(), lr=1e-1)\n",
        "\n",
        "# 学習\n",
        "num_epochs = 30\n",
        "log_train = []\n",
        "log_valid = []\n",
        "for epoch in range(num_epochs):\n",
        "  # 訓練モードに設定\n",
        "  model.train()\n",
        "  for i, (inputs, labels) in enumerate(dataloader_train):\n",
        "    # 勾配をゼロで初期化\n",
        "    optimizer.zero_grad()\n",
        "\n",
        "    # 順伝播 + 誤差逆伝播 + 重み更新\n",
        "    outputs = model.forward(inputs)\n",
        "    loss = criterion(outputs, labels)\n",
        "    loss.backward()\n",
        "    optimizer.step()\n",
        " \n",
        "  # 損失と正解率の算出\n",
        "  loss_train, acc_train = calculate_loss_and_accuracy(model, criterion, dataloader_train)\n",
        "  loss_valid, acc_valid = calculate_loss_and_accuracy(model, criterion, dataloader_valid)\n",
        "  log_train.append([loss_train, acc_train])\n",
        "  log_valid.append([loss_valid, acc_valid])\n",
        "\n",
        "  # ログを出力\n",
        "  print(f'epoch: {epoch + 1}, loss_train: {loss_train:.4f}, accuracy_train: {acc_train:.4f}, loss_valid: {loss_valid:.4f}, accuracy_valid: {acc_valid:.4f}')  "
      ],
      "execution_count": 0,
      "outputs": [
        {
          "output_type": "stream",
          "text": [
            "epoch: 1, loss_train: 0.3476, accuracy_train: 0.8796, loss_valid: 0.3656, accuracy_valid: 0.8840\n",
            "epoch: 2, loss_train: 0.2912, accuracy_train: 0.8988, loss_valid: 0.3219, accuracy_valid: 0.8967\n",
            "epoch: 3, loss_train: 0.2690, accuracy_train: 0.9073, loss_valid: 0.3099, accuracy_valid: 0.8982\n",
            "epoch: 4, loss_train: 0.2620, accuracy_train: 0.9092, loss_valid: 0.3113, accuracy_valid: 0.8990\n",
            "epoch: 5, loss_train: 0.2473, accuracy_train: 0.9154, loss_valid: 0.3025, accuracy_valid: 0.8975\n",
            "epoch: 6, loss_train: 0.2415, accuracy_train: 0.9188, loss_valid: 0.3012, accuracy_valid: 0.8997\n",
            "epoch: 7, loss_train: 0.2365, accuracy_train: 0.9206, loss_valid: 0.3031, accuracy_valid: 0.9004\n",
            "epoch: 8, loss_train: 0.2328, accuracy_train: 0.9217, loss_valid: 0.3027, accuracy_valid: 0.8982\n",
            "epoch: 9, loss_train: 0.2296, accuracy_train: 0.9216, loss_valid: 0.3023, accuracy_valid: 0.8960\n",
            "epoch: 10, loss_train: 0.2246, accuracy_train: 0.9220, loss_valid: 0.3021, accuracy_valid: 0.9012\n",
            "epoch: 11, loss_train: 0.2231, accuracy_train: 0.9229, loss_valid: 0.3043, accuracy_valid: 0.8967\n",
            "epoch: 12, loss_train: 0.2279, accuracy_train: 0.9224, loss_valid: 0.3109, accuracy_valid: 0.8960\n",
            "epoch: 13, loss_train: 0.2231, accuracy_train: 0.9240, loss_valid: 0.3106, accuracy_valid: 0.8967\n",
            "epoch: 14, loss_train: 0.2191, accuracy_train: 0.9261, loss_valid: 0.3086, accuracy_valid: 0.8990\n",
            "epoch: 15, loss_train: 0.2167, accuracy_train: 0.9274, loss_valid: 0.3077, accuracy_valid: 0.8960\n",
            "epoch: 16, loss_train: 0.2148, accuracy_train: 0.9260, loss_valid: 0.3078, accuracy_valid: 0.8975\n",
            "epoch: 17, loss_train: 0.2145, accuracy_train: 0.9271, loss_valid: 0.3105, accuracy_valid: 0.8967\n",
            "epoch: 18, loss_train: 0.2129, accuracy_train: 0.9278, loss_valid: 0.3097, accuracy_valid: 0.8990\n",
            "epoch: 19, loss_train: 0.2121, accuracy_train: 0.9281, loss_valid: 0.3118, accuracy_valid: 0.8967\n",
            "epoch: 20, loss_train: 0.2131, accuracy_train: 0.9279, loss_valid: 0.3131, accuracy_valid: 0.8967\n",
            "epoch: 21, loss_train: 0.2121, accuracy_train: 0.9284, loss_valid: 0.3141, accuracy_valid: 0.8960\n",
            "epoch: 22, loss_train: 0.2122, accuracy_train: 0.9281, loss_valid: 0.3159, accuracy_valid: 0.8952\n",
            "epoch: 23, loss_train: 0.2122, accuracy_train: 0.9294, loss_valid: 0.3157, accuracy_valid: 0.8952\n",
            "epoch: 24, loss_train: 0.2102, accuracy_train: 0.9289, loss_valid: 0.3179, accuracy_valid: 0.8952\n",
            "epoch: 25, loss_train: 0.2092, accuracy_train: 0.9296, loss_valid: 0.3179, accuracy_valid: 0.8967\n",
            "epoch: 26, loss_train: 0.2095, accuracy_train: 0.9291, loss_valid: 0.3167, accuracy_valid: 0.8952\n",
            "epoch: 27, loss_train: 0.2082, accuracy_train: 0.9290, loss_valid: 0.3203, accuracy_valid: 0.8945\n",
            "epoch: 28, loss_train: 0.2082, accuracy_train: 0.9308, loss_valid: 0.3190, accuracy_valid: 0.8930\n",
            "epoch: 29, loss_train: 0.2102, accuracy_train: 0.9287, loss_valid: 0.3259, accuracy_valid: 0.8930\n",
            "epoch: 30, loss_train: 0.2119, accuracy_train: 0.9289, loss_valid: 0.3262, accuracy_valid: 0.8945\n"
          ],
          "name": "stdout"
        }
      ]
    },
    {
      "cell_type": "code",
      "metadata": {
        "id": "QUnqNHDmL1hm",
        "colab_type": "code",
        "outputId": "e763e6b5-5f20-47cb-d7f8-f199a24d6d59",
        "colab": {
          "base_uri": "https://localhost:8080/",
          "height": 334
        }
      },
      "source": [
        "from matplotlib import pyplot as plt\n",
        "\n",
        "# 視覚化\n",
        "fig, ax = plt.subplots(1, 2, figsize=(15, 5))\n",
        "ax[0].plot(np.array(log_train).T[0], label='train')\n",
        "ax[0].plot(np.array(log_valid).T[0], label='valid')\n",
        "ax[0].set_xlabel('epoch')\n",
        "ax[0].set_ylabel('loss')\n",
        "ax[0].legend()\n",
        "ax[1].plot(np.array(log_train).T[1], label='train')\n",
        "ax[1].plot(np.array(log_valid).T[1], label='valid')\n",
        "ax[1].set_xlabel('epoch')\n",
        "ax[1].set_ylabel('accuracy')\n",
        "ax[1].legend()\n",
        "plt.show()"
      ],
      "execution_count": 0,
      "outputs": [
        {
          "output_type": "display_data",
          "data": {
            "image/png": "[encoded data removed]",
            "text/plain": [
              "<Figure size 1080x360 with 2 Axes>"
            ]
          },
          "metadata": {
            "tags": [],
            "needs_background": "light"
          }
        }
      ]
    },
    {
      "cell_type": "markdown",
      "metadata": {
        "id": "uhiVlsvV5_-x",
        "colab_type": "text"
      },
      "source": [
        "## 76. チェックポイント\n",
        "***\n",
        "問題75のコードを改変し，各エポックのパラメータ更新が完了するたびに，チェックポイント（学習途中のパラメータ（重み行列など）の値や最適化アルゴリズムの内部状態）をファイルに書き出せ．"
      ]
    },
    {
      "cell_type": "code",
      "metadata": {
        "id": "BswEwOPjbqvj",
        "colab_type": "code",
        "outputId": "49b98de6-b303-40ca-e786-5d483333e3da",
        "colab": {
          "base_uri": "https://localhost:8080/",
          "height": 187
        }
      },
      "source": [
        "# モデルの定義\n",
        "model = SLPNet(300, 4)\n",
        "\n",
        "# 損失関数の定義\n",
        "criterion = nn.CrossEntropyLoss()\n",
        "\n",
        "# オプティマイザの定義\n",
        "optimizer = torch.optim.SGD(model.parameters(), lr=1e-1)\n",
        "\n",
        "# 学習\n",
        "num_epochs = 10\n",
        "log_train = []\n",
        "log_valid = []\n",
        "for epoch in range(num_epochs):\n",
        "  # 訓練モードに設定\n",
        "  model.train()\n",
        "  for i, (inputs, labels) in enumerate(dataloader_train):\n",
        "    # 勾配をゼロで初期化\n",
        "    optimizer.zero_grad()\n",
        "\n",
        "    # 順伝播 + 誤差逆伝播 + 重み更新\n",
        "    outputs = model.forward(inputs)\n",
        "    loss = criterion(outputs, labels)\n",
        "    loss.backward()\n",
        "    optimizer.step()\n",
        " \n",
        "  # 損失と正解率の算出\n",
        "  loss_train, acc_train = calculate_loss_and_accuracy(model, criterion, dataloader_train)\n",
        "  loss_valid, acc_valid = calculate_loss_and_accuracy(model, criterion, dataloader_valid)\n",
        "  log_train.append([loss_train, acc_train])\n",
        "  log_valid.append([loss_valid, acc_valid])\n",
        "\n",
        "  # チェックポイントの保存\n",
        "  torch.save({'epoch': epoch, 'model_state_dict': model.state_dict(), 'optimizer_state_dict': optimizer.state_dict()}, f'checkpoint{epoch + 1}.pt')\n",
        "\n",
        "  # ログを出力\n",
        "  print(f'epoch: {epoch + 1}, loss_train: {loss_train:.4f}, accuracy_train: {acc_train:.4f}, loss_valid: {loss_valid:.4f}, accuracy_valid: {acc_valid:.4f}')  "
      ],
      "execution_count": 0,
      "outputs": [
        {
          "output_type": "stream",
          "text": [
            "epoch: 1, loss_train: 0.3273, accuracy_train: 0.8873, loss_valid: 0.3564, accuracy_valid: 0.8787\n",
            "epoch: 2, loss_train: 0.2825, accuracy_train: 0.9046, loss_valid: 0.3233, accuracy_valid: 0.8907\n",
            "epoch: 3, loss_train: 0.2661, accuracy_train: 0.9100, loss_valid: 0.3153, accuracy_valid: 0.8900\n",
            "epoch: 4, loss_train: 0.2532, accuracy_train: 0.9146, loss_valid: 0.3086, accuracy_valid: 0.8952\n",
            "epoch: 5, loss_train: 0.2427, accuracy_train: 0.9180, loss_valid: 0.3069, accuracy_valid: 0.8945\n",
            "epoch: 6, loss_train: 0.2382, accuracy_train: 0.9182, loss_valid: 0.3072, accuracy_valid: 0.8937\n",
            "epoch: 7, loss_train: 0.2328, accuracy_train: 0.9212, loss_valid: 0.3053, accuracy_valid: 0.8975\n",
            "epoch: 8, loss_train: 0.2286, accuracy_train: 0.9235, loss_valid: 0.3060, accuracy_valid: 0.8952\n",
            "epoch: 9, loss_train: 0.2271, accuracy_train: 0.9245, loss_valid: 0.3080, accuracy_valid: 0.8922\n",
            "epoch: 10, loss_train: 0.2319, accuracy_train: 0.9209, loss_valid: 0.3170, accuracy_valid: 0.8952\n"
          ],
          "name": "stdout"
        }
      ]
    },
    {
      "cell_type": "markdown",
      "metadata": {
        "id": "DfUVIfNf6GgG",
        "colab_type": "text"
      },
      "source": [
        "## 77. ミニバッチ化\n",
        "***\n",
        "問題76のコードを改変し，$B$事例ごとに損失・勾配を計算し，行列$W$の値を更新せよ（ミニバッチ化）．$B$の値を$1,2,4,8,…$と変化させながら，1エポックの学習に要する時間を比較せよ．"
      ]
    },
    {
      "cell_type": "code",
      "metadata": {
        "id": "Dl5Jm025mdQg",
        "colab_type": "code",
        "colab": {}
      },
      "source": [
        "import time\n",
        "\n",
        "def train_model(dataset_train, dataset_valid, batch_size, model, criterion, optimizer, num_epochs):\n",
        "  # dataloaderの作成\n",
        "  dataloader_train = DataLoader(dataset_train, batch_size=batch_size, shuffle=True)\n",
        "  dataloader_valid = DataLoader(dataset_valid, batch_size=len(dataset_valid), shuffle=False)\n",
        "\n",
        "  # 学習\n",
        "  log_train = []\n",
        "  log_valid = []\n",
        "  for epoch in range(num_epochs):\n",
        "    # 開始時刻の記録\n",
        "    s_time = time.time()\n",
        "\n",
        "    # 訓練モードに設定\n",
        "    model.train()\n",
        "    for i, (inputs, labels) in enumerate(dataloader_train):\n",
        "      # 勾配をゼロで初期化\n",
        "      optimizer.zero_grad()\n",
        "\n",
        "      # 順伝播 + 誤差逆伝播 + 重み更新\n",
        "      outputs = model.forward(inputs)\n",
        "      loss = criterion(outputs, labels)\n",
        "      loss.backward()\n",
        "      optimizer.step()\n",
        "  \n",
        "    # 損失と正解率の算出\n",
        "    loss_train, acc_train = calculate_loss_and_accuracy(model, criterion, dataloader_train)\n",
        "    loss_valid, acc_valid = calculate_loss_and_accuracy(model, criterion, dataloader_valid)\n",
        "    log_train.append([loss_train, acc_train])\n",
        "    log_valid.append([loss_valid, acc_valid])\n",
        "\n",
        "    # チェックポイントの保存\n",
        "    torch.save({'epoch': epoch, 'model_state_dict': model.state_dict(), 'optimizer_state_dict': optimizer.state_dict()}, f'checkpoint{epoch + 1}.pt')\n",
        "\n",
        "    # 終了時刻の記録\n",
        "    e_time = time.time()\n",
        "\n",
        "    # ログを出力\n",
        "    print(f'epoch: {epoch + 1}, loss_train: {loss_train:.4f}, accuracy_train: {acc_train:.4f}, loss_valid: {loss_valid:.4f}, accuracy_valid: {acc_valid:.4f}, {(e_time - s_time):.4f}sec') \n",
        "\n",
        "  return {'train': log_train, 'valid': log_valid}"
      ],
      "execution_count": 0,
      "outputs": []
    },
    {
      "cell_type": "code",
      "metadata": {
        "id": "reXuH18SpnDH",
        "colab_type": "code",
        "outputId": "63311bad-377a-4821-f412-567fb66ca98c",
        "colab": {
          "base_uri": "https://localhost:8080/",
          "height": 391
        }
      },
      "source": [
        "# datasetの作成\n",
        "dataset_train = CreateDataset(X_train, y_train)\n",
        "dataset_valid = CreateDataset(X_valid, y_valid)\n",
        "\n",
        "# モデルの定義\n",
        "model = SLPNet(300, 4)\n",
        "\n",
        "# 損失関数の定義\n",
        "criterion = nn.CrossEntropyLoss()\n",
        "\n",
        "# オプティマイザの定義\n",
        "optimizer = torch.optim.SGD(model.parameters(), lr=1e-1)\n",
        "\n",
        "# モデルの学習\n",
        "for batch_size in [2 ** i for i in range(11)]:\n",
        "  print(f'バッチサイズ: {batch_size}')\n",
        "  log = train_model(dataset_train, dataset_valid, batch_size, model, criterion, optimizer, 1)"
      ],
      "execution_count": 0,
      "outputs": [
        {
          "output_type": "stream",
          "text": [
            "バッチサイズ: 1\n",
            "epoch: 1, loss_train: 0.3237, accuracy_train: 0.8888, loss_valid: 0.3476, accuracy_valid: 0.8817, 5.4416sec\n",
            "バッチサイズ: 2\n",
            "epoch: 1, loss_train: 0.2966, accuracy_train: 0.8999, loss_valid: 0.3258, accuracy_valid: 0.8847, 3.0029sec\n",
            "バッチサイズ: 4\n",
            "epoch: 1, loss_train: 0.2883, accuracy_train: 0.8999, loss_valid: 0.3222, accuracy_valid: 0.8862, 1.5988sec\n",
            "バッチサイズ: 8\n",
            "epoch: 1, loss_train: 0.2835, accuracy_train: 0.9023, loss_valid: 0.3179, accuracy_valid: 0.8907, 0.8732sec\n",
            "バッチサイズ: 16\n",
            "epoch: 1, loss_train: 0.2817, accuracy_train: 0.9038, loss_valid: 0.3164, accuracy_valid: 0.8907, 0.5445sec\n",
            "バッチサイズ: 32\n",
            "epoch: 1, loss_train: 0.2810, accuracy_train: 0.9038, loss_valid: 0.3159, accuracy_valid: 0.8900, 0.3482sec\n",
            "バッチサイズ: 64\n",
            "epoch: 1, loss_train: 0.2806, accuracy_train: 0.9040, loss_valid: 0.3157, accuracy_valid: 0.8900, 0.2580sec\n",
            "バッチサイズ: 128\n",
            "epoch: 1, loss_train: 0.2806, accuracy_train: 0.9041, loss_valid: 0.3156, accuracy_valid: 0.8900, 0.1984sec\n",
            "バッチサイズ: 256\n",
            "epoch: 1, loss_train: 0.2801, accuracy_train: 0.9039, loss_valid: 0.3155, accuracy_valid: 0.8900, 0.1715sec\n",
            "バッチサイズ: 512\n",
            "epoch: 1, loss_train: 0.2802, accuracy_train: 0.9038, loss_valid: 0.3155, accuracy_valid: 0.8900, 0.2177sec\n",
            "バッチサイズ: 1024\n",
            "epoch: 1, loss_train: 0.2792, accuracy_train: 0.9038, loss_valid: 0.3155, accuracy_valid: 0.8900, 0.1603sec\n"
          ],
          "name": "stdout"
        }
      ]
    },
    {
      "cell_type": "markdown",
      "metadata": {
        "id": "bbhSXdpG6Lit",
        "colab_type": "text"
      },
      "source": [
        "## 78. GPU上での学習\n",
        "***\n",
        "問題77のコードを改変し，GPU上で学習を実行せよ．"
      ]
    },
    {
      "cell_type": "code",
      "metadata": {
        "id": "K4VwRApLqdtP",
        "colab_type": "code",
        "colab": {}
      },
      "source": [
        "def calculate_loss_and_accuracy(model, criterion, loader, device):\n",
        "  model.eval()\n",
        "  loss = 0.0\n",
        "  total = 0\n",
        "  correct = 0\n",
        "  with torch.no_grad():\n",
        "    for inputs, labels in loader:\n",
        "      inputs = inputs.to(device)\n",
        "      labels = labels.to(device)\n",
        "      outputs = model(inputs)\n",
        "      loss += criterion(outputs, labels).item()\n",
        "      pred = torch.argmax(outputs, dim=-1)\n",
        "      total += len(inputs)\n",
        "      correct += (pred == labels).sum().item()\n",
        "      \n",
        "  return loss / len(loader), correct / total\n",
        "  \n",
        "\n",
        "def train_model(dataset_train, dataset_valid, batch_size, model, criterion, optimizer, num_epochs, device=None):\n",
        "  # GPUに送る\n",
        "  model.to(device)\n",
        "\n",
        "  # dataloaderの作成\n",
        "  dataloader_train = DataLoader(dataset_train, batch_size=batch_size, shuffle=True)\n",
        "  dataloader_valid = DataLoader(dataset_valid, batch_size=len(dataset_valid), shuffle=False)\n",
        "\n",
        "  # 学習\n",
        "  log_train = []\n",
        "  log_valid = []\n",
        "  for epoch in range(num_epochs):\n",
        "    # 開始時刻の記録\n",
        "    s_time = time.time()\n",
        "\n",
        "    # 訓練モードに設定\n",
        "    model.train()\n",
        "    for i, (inputs, labels) in enumerate(dataloader_train):\n",
        "      # 勾配をゼロで初期化\n",
        "      optimizer.zero_grad()\n",
        "\n",
        "      # 順伝播 + 誤差逆伝播 + 重み更新\n",
        "      inputs = inputs.to(device)\n",
        "      labels = labels.to(device)\n",
        "      outputs = model.forward(inputs)\n",
        "      loss = criterion(outputs, labels)\n",
        "      loss.backward()\n",
        "      optimizer.step()\n",
        "    \n",
        "    # 損失と正解率の算出\n",
        "    loss_train, acc_train = calculate_loss_and_accuracy(model, criterion, dataloader_train, device)\n",
        "    loss_valid, acc_valid = calculate_loss_and_accuracy(model, criterion, dataloader_valid, device)\n",
        "    log_train.append([loss_train, acc_train])\n",
        "    log_valid.append([loss_valid, acc_valid])\n",
        "\n",
        "    # チェックポイントの保存\n",
        "    torch.save({'epoch': epoch, 'model_state_dict': model.state_dict(), 'optimizer_state_dict': optimizer.state_dict()}, f'checkpoint{epoch + 1}.pt')\n",
        "\n",
        "    # 終了時刻の記録\n",
        "    e_time = time.time()\n",
        "\n",
        "    # ログを出力\n",
        "    print(f'epoch: {epoch + 1}, loss_train: {loss_train:.4f}, accuracy_train: {acc_train:.4f}, loss_valid: {loss_valid:.4f}, accuracy_valid: {acc_valid:.4f}, {(e_time - s_time):.4f}sec') \n",
        "\n",
        "  return {'train': log_train, 'valid': log_valid}"
      ],
      "execution_count": 0,
      "outputs": []
    },
    {
      "cell_type": "code",
      "metadata": {
        "id": "21p8nm8Bs7i8",
        "colab_type": "code",
        "outputId": "3956bc97-beaa-4be9-bfb2-d7802778222f",
        "colab": {
          "base_uri": "https://localhost:8080/",
          "height": 391
        }
      },
      "source": [
        "# datasetの作成\n",
        "dataset_train = CreateDataset(X_train, y_train)\n",
        "dataset_valid = CreateDataset(X_valid, y_valid)\n",
        "\n",
        "# モデルの定義\n",
        "model = SLPNet(300, 4)\n",
        "\n",
        "# 損失関数の定義\n",
        "criterion = nn.CrossEntropyLoss()\n",
        "\n",
        "# オプティマイザの定義\n",
        "optimizer = torch.optim.SGD(model.parameters(), lr=1e-1)\n",
        "\n",
        "# デバイスの指定\n",
        "device = torch.device('cuda')\n",
        "for batch_size in [2 ** i for i in range(11)]:\n",
        "  print(f'バッチサイズ: {batch_size}')\n",
        "  log = train_model(dataset_train, dataset_valid, batch_size, model, criterion, optimizer, 1, device=device)"
      ],
      "execution_count": 0,
      "outputs": [
        {
          "output_type": "stream",
          "text": [
            "バッチサイズ: 1\n",
            "epoch: 1, loss_train: 0.3300, accuracy_train: 0.8874, loss_valid: 0.3584, accuracy_valid: 0.8772, 9.0342sec\n",
            "バッチサイズ: 2\n",
            "epoch: 1, loss_train: 0.3025, accuracy_train: 0.8994, loss_valid: 0.3374, accuracy_valid: 0.8870, 4.6391sec\n",
            "バッチサイズ: 4\n",
            "epoch: 1, loss_train: 0.2938, accuracy_train: 0.9005, loss_valid: 0.3321, accuracy_valid: 0.8855, 2.4228sec\n",
            "バッチサイズ: 8\n",
            "epoch: 1, loss_train: 0.2894, accuracy_train: 0.9039, loss_valid: 0.3299, accuracy_valid: 0.8855, 1.2517sec\n",
            "バッチサイズ: 16\n",
            "epoch: 1, loss_train: 0.2876, accuracy_train: 0.9038, loss_valid: 0.3285, accuracy_valid: 0.8855, 0.7149sec\n",
            "バッチサイズ: 32\n",
            "epoch: 1, loss_train: 0.2867, accuracy_train: 0.9050, loss_valid: 0.3280, accuracy_valid: 0.8862, 0.4323sec\n",
            "バッチサイズ: 64\n",
            "epoch: 1, loss_train: 0.2863, accuracy_train: 0.9050, loss_valid: 0.3277, accuracy_valid: 0.8862, 0.2834sec\n",
            "バッチサイズ: 128\n",
            "epoch: 1, loss_train: 0.2869, accuracy_train: 0.9051, loss_valid: 0.3276, accuracy_valid: 0.8862, 0.2070sec\n",
            "バッチサイズ: 256\n",
            "epoch: 1, loss_train: 0.2864, accuracy_train: 0.9054, loss_valid: 0.3275, accuracy_valid: 0.8862, 0.1587sec\n",
            "バッチサイズ: 512\n",
            "epoch: 1, loss_train: 0.2859, accuracy_train: 0.9056, loss_valid: 0.3275, accuracy_valid: 0.8862, 0.2016sec\n",
            "バッチサイズ: 1024\n",
            "epoch: 1, loss_train: 0.2858, accuracy_train: 0.9056, loss_valid: 0.3275, accuracy_valid: 0.8862, 0.1303sec\n"
          ],
          "name": "stdout"
        }
      ]
    },
    {
      "cell_type": "markdown",
      "metadata": {
        "id": "O2Hyc7XdRelw",
        "colab_type": "text"
      },
      "source": [
        "## 79. 多層ニューラルネットワーク\n",
        "***\n",
        "問題78のコードを改変し，バイアス項の導入や多層化など，ニューラルネットワークの形状を変更しながら，高性能なカテゴリ分類器を構築せよ．"
      ]
    },
    {
      "cell_type": "code",
      "metadata": {
        "id": "BV7eXCAjvAYe",
        "colab_type": "code",
        "colab": {}
      },
      "source": [
        "from torch.nn import functional as F\n",
        "\n",
        "class MLPNet(nn.Module):\n",
        "  def __init__(self, input_size, mid_size, output_size, mid_layers):\n",
        "    super().__init__()\n",
        "    self.mid_layers = mid_layers\n",
        "    self.fc = nn.Linear(input_size, mid_size)\n",
        "    self.fc_mid = nn.Linear(mid_size, mid_size)\n",
        "    self.fc_out = nn.Linear(mid_size, output_size) \n",
        "    self.bn = nn.BatchNorm1d(mid_size)\n",
        "\n",
        "  def forward(self, x):\n",
        "    x = F.relu(self.fc(x))\n",
        "    for _ in range(self.mid_layers):\n",
        "      x = F.relu(self.bn(self.fc_mid(x)))\n",
        "    x = F.relu(self.fc_out(x))\n",
        " \n",
        "    return x"
      ],
      "execution_count": 0,
      "outputs": []
    },
    {
      "cell_type": "code",
      "metadata": {
        "id": "MkyEmH8Xt_zD",
        "colab_type": "code",
        "colab": {}
      },
      "source": [
        "from torch import optim\n",
        "\n",
        "def calculate_loss_and_accuracy(model, criterion, loader, device):\n",
        "  model.eval()\n",
        "  loss = 0.0\n",
        "  total = 0\n",
        "  correct = 0\n",
        "  with torch.no_grad():\n",
        "    for inputs, labels in loader:\n",
        "      inputs = inputs.to(device)\n",
        "      labels = labels.to(device)\n",
        "      outputs = model(inputs)\n",
        "      loss += criterion(outputs, labels).item()\n",
        "      pred = torch.argmax(outputs, dim=-1)\n",
        "      total += len(inputs)\n",
        "      correct += (pred == labels).sum().item()\n",
        "      \n",
        "  return loss / len(loader), correct / total\n",
        "  \n",
        "\n",
        "def train_model(dataset_train, dataset_valid, batch_size, model, criterion, optimizer, num_epochs, device=None):\n",
        "  # GPUに送る\n",
        "  model.to(device)\n",
        "\n",
        "  # dataloaderの作成\n",
        "  dataloader_train = DataLoader(dataset_train, batch_size=batch_size, shuffle=True)\n",
        "  dataloader_valid = DataLoader(dataset_valid, batch_size=len(dataset_valid), shuffle=False)\n",
        "\n",
        "  # スケジューラの設定\n",
        "  scheduler = optim.lr_scheduler.CosineAnnealingLR(optimizer, num_epochs, eta_min=1e-5, last_epoch=-1)\n",
        "\n",
        "  # 学習\n",
        "  log_train = []\n",
        "  log_valid = []\n",
        "  for epoch in range(num_epochs):\n",
        "    # 開始時刻の記録\n",
        "    s_time = time.time()\n",
        "\n",
        "    # 訓練モードに設定\n",
        "    model.train()\n",
        "    for i, (inputs, labels) in enumerate(dataloader_train):\n",
        "      # 勾配をゼロで初期化\n",
        "      optimizer.zero_grad()\n",
        "\n",
        "      # 順伝播 + 誤差逆伝播 + 重み更新\n",
        "      inputs = inputs.to(device)\n",
        "      labels = labels.to(device)\n",
        "      outputs = model.forward(inputs)\n",
        "      loss = criterion(outputs, labels)\n",
        "      loss.backward()\n",
        "      optimizer.step()\n",
        "    \n",
        "    # 損失と正解率の算出\n",
        "    loss_train, acc_train = calculate_loss_and_accuracy(model, criterion, dataloader_train, device)\n",
        "    loss_valid, acc_valid = calculate_loss_and_accuracy(model, criterion, dataloader_valid, device)\n",
        "    log_train.append([loss_train, acc_train])\n",
        "    log_valid.append([loss_valid, acc_valid])\n",
        "\n",
        "    # チェックポイントの保存\n",
        "    torch.save({'epoch': epoch, 'model_state_dict': model.state_dict(), 'optimizer_state_dict': optimizer.state_dict()}, f'checkpoint{epoch + 1}.pt')\n",
        "\n",
        "    # 終了時刻の記録\n",
        "    e_time = time.time()\n",
        "\n",
        "    # ログを出力\n",
        "    print(f'epoch: {epoch + 1}, loss_train: {loss_train:.4f}, accuracy_train: {acc_train:.4f}, loss_valid: {loss_valid:.4f}, accuracy_valid: {acc_valid:.4f}, {(e_time - s_time):.4f}sec') \n",
        "\n",
        "    # 検証データの損失が3エポック連続で低下しなかった場合は学習終了\n",
        "    if epoch > 2 and log_valid[epoch - 3][0] <= log_valid[epoch - 2][0] <= log_valid[epoch - 1][0] <= log_valid[epoch][0]:\n",
        "      break\n",
        "\n",
        "    # スケジューラを1ステップ進める\n",
        "    scheduler.step()\n",
        "\n",
        "  return {'train': log_train, 'valid': log_valid}"
      ],
      "execution_count": 0,
      "outputs": []
    },
    {
      "cell_type": "code",
      "metadata": {
        "id": "_x_ZcgDtnr5d",
        "colab_type": "code",
        "outputId": "c9c68f63-da12-46b0-f296-f6cd8b36f41e",
        "colab": {
          "base_uri": "https://localhost:8080/",
          "height": 1000
        }
      },
      "source": [
        "# datasetの作成\n",
        "dataset_train = CreateDataset(X_train, y_train)\n",
        "dataset_valid = CreateDataset(X_valid, y_valid)\n",
        "\n",
        "# モデルの定義\n",
        "model = MLPNet(300, 200, 4, 1)\n",
        "\n",
        "# 損失関数の定義\n",
        "criterion = nn.CrossEntropyLoss()\n",
        "\n",
        "# オプティマイザの定義\n",
        "optimizer = torch.optim.SGD(model.parameters(), lr=1e-3)\n",
        "\n",
        "# デバイスの指定\n",
        "device = torch.device('cuda')\n",
        "log = train_model(dataset_train, dataset_valid, 64, model, criterion, optimizer, 1000, device)"
      ],
      "execution_count": 0,
      "outputs": [
        {
          "output_type": "stream",
          "text": [
            "epoch: 1, loss_train: 1.1176, accuracy_train: 0.6679, loss_valid: 1.1150, accuracy_valid: 0.6572, 0.4695sec\n",
            "epoch: 2, loss_train: 0.8050, accuracy_train: 0.7620, loss_valid: 0.8005, accuracy_valid: 0.7687, 0.4521sec\n",
            "epoch: 3, loss_train: 0.6972, accuracy_train: 0.7727, loss_valid: 0.6937, accuracy_valid: 0.7784, 0.4515sec\n",
            "epoch: 4, loss_train: 0.6427, accuracy_train: 0.7764, loss_valid: 0.6412, accuracy_valid: 0.7829, 0.5302sec\n",
            "epoch: 5, loss_train: 0.6075, accuracy_train: 0.7799, loss_valid: 0.6078, accuracy_valid: 0.7844, 0.4449sec\n",
            "epoch: 6, loss_train: 0.5763, accuracy_train: 0.7882, loss_valid: 0.5793, accuracy_valid: 0.7897, 0.4368sec\n",
            "epoch: 7, loss_train: 0.5498, accuracy_train: 0.7976, loss_valid: 0.5548, accuracy_valid: 0.7979, 0.4458sec\n",
            "epoch: 8, loss_train: 0.5268, accuracy_train: 0.8055, loss_valid: 0.5333, accuracy_valid: 0.8099, 0.4456sec\n",
            "epoch: 9, loss_train: 0.5088, accuracy_train: 0.8176, loss_valid: 0.5166, accuracy_valid: 0.8174, 0.4478sec\n",
            "epoch: 10, loss_train: 0.4903, accuracy_train: 0.8242, loss_valid: 0.4994, accuracy_valid: 0.8219, 0.4504sec\n",
            "epoch: 11, loss_train: 0.4773, accuracy_train: 0.8277, loss_valid: 0.4868, accuracy_valid: 0.8249, 0.4502sec\n",
            "epoch: 12, loss_train: 0.4649, accuracy_train: 0.8349, loss_valid: 0.4758, accuracy_valid: 0.8301, 0.4461sec\n",
            "epoch: 13, loss_train: 0.4546, accuracy_train: 0.8370, loss_valid: 0.4657, accuracy_valid: 0.8331, 0.4646sec\n",
            "epoch: 14, loss_train: 0.4444, accuracy_train: 0.8414, loss_valid: 0.4568, accuracy_valid: 0.8368, 0.4624sec\n",
            "epoch: 15, loss_train: 0.4406, accuracy_train: 0.8442, loss_valid: 0.4540, accuracy_valid: 0.8398, 0.4447sec\n",
            "epoch: 16, loss_train: 0.4262, accuracy_train: 0.8466, loss_valid: 0.4403, accuracy_valid: 0.8391, 0.4553sec\n",
            "epoch: 17, loss_train: 0.4188, accuracy_train: 0.8485, loss_valid: 0.4334, accuracy_valid: 0.8466, 0.4411sec\n",
            "epoch: 18, loss_train: 0.4104, accuracy_train: 0.8517, loss_valid: 0.4265, accuracy_valid: 0.8488, 0.4488sec\n",
            "epoch: 19, loss_train: 0.4041, accuracy_train: 0.8553, loss_valid: 0.4211, accuracy_valid: 0.8496, 0.4491sec\n",
            "epoch: 20, loss_train: 0.3949, accuracy_train: 0.8584, loss_valid: 0.4137, accuracy_valid: 0.8503, 0.4490sec\n",
            "epoch: 21, loss_train: 0.3872, accuracy_train: 0.8646, loss_valid: 0.4056, accuracy_valid: 0.8585, 0.4565sec\n",
            "epoch: 22, loss_train: 0.3733, accuracy_train: 0.8706, loss_valid: 0.3938, accuracy_valid: 0.8675, 0.4571sec\n",
            "epoch: 23, loss_train: 0.3619, accuracy_train: 0.8803, loss_valid: 0.3828, accuracy_valid: 0.8743, 0.4469sec\n",
            "epoch: 24, loss_train: 0.3518, accuracy_train: 0.8854, loss_valid: 0.3743, accuracy_valid: 0.8772, 0.4427sec\n",
            "epoch: 25, loss_train: 0.3419, accuracy_train: 0.8921, loss_valid: 0.3653, accuracy_valid: 0.8885, 0.4941sec\n",
            "epoch: 26, loss_train: 0.3311, accuracy_train: 0.8959, loss_valid: 0.3559, accuracy_valid: 0.8915, 0.4483sec\n",
            "epoch: 27, loss_train: 0.3244, accuracy_train: 0.8982, loss_valid: 0.3506, accuracy_valid: 0.8937, 0.4451sec\n",
            "epoch: 28, loss_train: 0.3166, accuracy_train: 0.9006, loss_valid: 0.3439, accuracy_valid: 0.8975, 0.4502sec\n",
            "epoch: 29, loss_train: 0.3072, accuracy_train: 0.9032, loss_valid: 0.3363, accuracy_valid: 0.8975, 0.4410sec\n",
            "epoch: 30, loss_train: 0.3034, accuracy_train: 0.9043, loss_valid: 0.3342, accuracy_valid: 0.8952, 0.4361sec\n",
            "epoch: 31, loss_train: 0.2967, accuracy_train: 0.9082, loss_valid: 0.3284, accuracy_valid: 0.8982, 0.4355sec\n",
            "epoch: 32, loss_train: 0.2914, accuracy_train: 0.9083, loss_valid: 0.3253, accuracy_valid: 0.8990, 0.4676sec\n",
            "epoch: 33, loss_train: 0.2845, accuracy_train: 0.9097, loss_valid: 0.3199, accuracy_valid: 0.9004, 0.4423sec\n",
            "epoch: 34, loss_train: 0.2829, accuracy_train: 0.9107, loss_valid: 0.3193, accuracy_valid: 0.8997, 0.4500sec\n",
            "epoch: 35, loss_train: 0.2784, accuracy_train: 0.9124, loss_valid: 0.3159, accuracy_valid: 0.9042, 0.5034sec\n",
            "epoch: 36, loss_train: 0.2765, accuracy_train: 0.9127, loss_valid: 0.3146, accuracy_valid: 0.9027, 0.4498sec\n",
            "epoch: 37, loss_train: 0.2711, accuracy_train: 0.9138, loss_valid: 0.3120, accuracy_valid: 0.9019, 0.4636sec\n",
            "epoch: 38, loss_train: 0.2669, accuracy_train: 0.9147, loss_valid: 0.3094, accuracy_valid: 0.9027, 0.4628sec\n",
            "epoch: 39, loss_train: 0.2644, accuracy_train: 0.9160, loss_valid: 0.3079, accuracy_valid: 0.9012, 0.4519sec\n",
            "epoch: 40, loss_train: 0.2613, accuracy_train: 0.9168, loss_valid: 0.3058, accuracy_valid: 0.9049, 0.4625sec\n",
            "epoch: 41, loss_train: 0.2590, accuracy_train: 0.9180, loss_valid: 0.3046, accuracy_valid: 0.9012, 0.4575sec\n",
            "epoch: 42, loss_train: 0.2556, accuracy_train: 0.9178, loss_valid: 0.3029, accuracy_valid: 0.9027, 0.4519sec\n",
            "epoch: 43, loss_train: 0.2545, accuracy_train: 0.9188, loss_valid: 0.3029, accuracy_valid: 0.9049, 0.4671sec\n",
            "epoch: 44, loss_train: 0.2495, accuracy_train: 0.9192, loss_valid: 0.3006, accuracy_valid: 0.9004, 0.4467sec\n",
            "epoch: 45, loss_train: 0.2482, accuracy_train: 0.9204, loss_valid: 0.3002, accuracy_valid: 0.9042, 0.4624sec\n",
            "epoch: 46, loss_train: 0.2461, accuracy_train: 0.9215, loss_valid: 0.2991, accuracy_valid: 0.9049, 0.4507sec\n",
            "epoch: 47, loss_train: 0.2434, accuracy_train: 0.9217, loss_valid: 0.2981, accuracy_valid: 0.9042, 0.4663sec\n",
            "epoch: 48, loss_train: 0.2411, accuracy_train: 0.9218, loss_valid: 0.2973, accuracy_valid: 0.9034, 0.4757sec\n",
            "epoch: 49, loss_train: 0.2392, accuracy_train: 0.9228, loss_valid: 0.2960, accuracy_valid: 0.9012, 0.4739sec\n",
            "epoch: 50, loss_train: 0.2362, accuracy_train: 0.9236, loss_valid: 0.2951, accuracy_valid: 0.9057, 0.4532sec\n",
            "epoch: 51, loss_train: 0.2342, accuracy_train: 0.9242, loss_valid: 0.2945, accuracy_valid: 0.9057, 0.4521sec\n",
            "epoch: 52, loss_train: 0.2337, accuracy_train: 0.9246, loss_valid: 0.2956, accuracy_valid: 0.9087, 0.4737sec\n",
            "epoch: 53, loss_train: 0.2296, accuracy_train: 0.9251, loss_valid: 0.2932, accuracy_valid: 0.9034, 0.4449sec\n",
            "epoch: 54, loss_train: 0.2285, accuracy_train: 0.9260, loss_valid: 0.2934, accuracy_valid: 0.9034, 0.4673sec\n",
            "epoch: 55, loss_train: 0.2267, accuracy_train: 0.9270, loss_valid: 0.2925, accuracy_valid: 0.9027, 0.4555sec\n",
            "epoch: 56, loss_train: 0.2245, accuracy_train: 0.9276, loss_valid: 0.2922, accuracy_valid: 0.9027, 0.4605sec\n",
            "epoch: 57, loss_train: 0.2249, accuracy_train: 0.9278, loss_valid: 0.2930, accuracy_valid: 0.9042, 0.4548sec\n",
            "epoch: 58, loss_train: 0.2209, accuracy_train: 0.9277, loss_valid: 0.2909, accuracy_valid: 0.9027, 0.4561sec\n",
            "epoch: 59, loss_train: 0.2193, accuracy_train: 0.9281, loss_valid: 0.2909, accuracy_valid: 0.9034, 0.4531sec\n",
            "epoch: 60, loss_train: 0.2188, accuracy_train: 0.9296, loss_valid: 0.2907, accuracy_valid: 0.9019, 0.4701sec\n",
            "epoch: 61, loss_train: 0.2167, accuracy_train: 0.9315, loss_valid: 0.2903, accuracy_valid: 0.9027, 0.4493sec\n",
            "epoch: 62, loss_train: 0.2154, accuracy_train: 0.9310, loss_valid: 0.2899, accuracy_valid: 0.9019, 0.4462sec\n",
            "epoch: 63, loss_train: 0.2124, accuracy_train: 0.9317, loss_valid: 0.2888, accuracy_valid: 0.9049, 0.4660sec\n",
            "epoch: 64, loss_train: 0.2123, accuracy_train: 0.9317, loss_valid: 0.2900, accuracy_valid: 0.9034, 0.4435sec\n",
            "epoch: 65, loss_train: 0.2103, accuracy_train: 0.9322, loss_valid: 0.2889, accuracy_valid: 0.9042, 0.4620sec\n",
            "epoch: 66, loss_train: 0.2083, accuracy_train: 0.9333, loss_valid: 0.2887, accuracy_valid: 0.9019, 0.5134sec\n",
            "epoch: 67, loss_train: 0.2069, accuracy_train: 0.9337, loss_valid: 0.2884, accuracy_valid: 0.9034, 0.4613sec\n",
            "epoch: 68, loss_train: 0.2055, accuracy_train: 0.9349, loss_valid: 0.2877, accuracy_valid: 0.9004, 0.4590sec\n",
            "epoch: 69, loss_train: 0.2050, accuracy_train: 0.9346, loss_valid: 0.2882, accuracy_valid: 0.9012, 0.4741sec\n",
            "epoch: 70, loss_train: 0.2046, accuracy_train: 0.9332, loss_valid: 0.2900, accuracy_valid: 0.9034, 0.4557sec\n",
            "epoch: 71, loss_train: 0.2016, accuracy_train: 0.9359, loss_valid: 0.2873, accuracy_valid: 0.9027, 0.4571sec\n",
            "epoch: 72, loss_train: 0.1999, accuracy_train: 0.9364, loss_valid: 0.2872, accuracy_valid: 0.9027, 0.4653sec\n",
            "epoch: 73, loss_train: 0.2002, accuracy_train: 0.9358, loss_valid: 0.2883, accuracy_valid: 0.9034, 0.4515sec\n",
            "epoch: 74, loss_train: 0.1981, accuracy_train: 0.9375, loss_valid: 0.2879, accuracy_valid: 0.9019, 0.4817sec\n",
            "epoch: 75, loss_train: 0.1964, accuracy_train: 0.9376, loss_valid: 0.2870, accuracy_valid: 0.9027, 0.4611sec\n",
            "epoch: 76, loss_train: 0.1946, accuracy_train: 0.9380, loss_valid: 0.2866, accuracy_valid: 0.9034, 0.4609sec\n",
            "epoch: 77, loss_train: 0.1930, accuracy_train: 0.9384, loss_valid: 0.2863, accuracy_valid: 0.9049, 0.4504sec\n",
            "epoch: 78, loss_train: 0.1909, accuracy_train: 0.9383, loss_valid: 0.2867, accuracy_valid: 0.9019, 0.4566sec\n",
            "epoch: 79, loss_train: 0.1900, accuracy_train: 0.9392, loss_valid: 0.2865, accuracy_valid: 0.9027, 0.4522sec\n",
            "epoch: 80, loss_train: 0.1897, accuracy_train: 0.9389, loss_valid: 0.2867, accuracy_valid: 0.9034, 0.4708sec\n",
            "epoch: 81, loss_train: 0.1902, accuracy_train: 0.9397, loss_valid: 0.2882, accuracy_valid: 0.9019, 0.4525sec\n",
            "epoch: 82, loss_train: 0.1873, accuracy_train: 0.9405, loss_valid: 0.2864, accuracy_valid: 0.9012, 0.4499sec\n",
            "epoch: 83, loss_train: 0.1856, accuracy_train: 0.9408, loss_valid: 0.2858, accuracy_valid: 0.9027, 0.4702sec\n",
            "epoch: 84, loss_train: 0.1847, accuracy_train: 0.9420, loss_valid: 0.2858, accuracy_valid: 0.9034, 0.4532sec\n",
            "epoch: 85, loss_train: 0.1843, accuracy_train: 0.9405, loss_valid: 0.2877, accuracy_valid: 0.9049, 0.4658sec\n",
            "epoch: 86, loss_train: 0.1817, accuracy_train: 0.9419, loss_valid: 0.2859, accuracy_valid: 0.9012, 0.4607sec\n",
            "epoch: 87, loss_train: 0.1811, accuracy_train: 0.9427, loss_valid: 0.2853, accuracy_valid: 0.9034, 0.4628sec\n",
            "epoch: 88, loss_train: 0.1807, accuracy_train: 0.9424, loss_valid: 0.2865, accuracy_valid: 0.9042, 0.4700sec\n",
            "epoch: 89, loss_train: 0.1787, accuracy_train: 0.9431, loss_valid: 0.2863, accuracy_valid: 0.9019, 0.4678sec\n",
            "epoch: 90, loss_train: 0.1778, accuracy_train: 0.9431, loss_valid: 0.2871, accuracy_valid: 0.9004, 0.4478sec\n",
            "epoch: 91, loss_train: 0.1770, accuracy_train: 0.9444, loss_valid: 0.2862, accuracy_valid: 0.9027, 0.4776sec\n",
            "epoch: 92, loss_train: 0.1762, accuracy_train: 0.9440, loss_valid: 0.2861, accuracy_valid: 0.9057, 0.4558sec\n",
            "epoch: 93, loss_train: 0.1740, accuracy_train: 0.9450, loss_valid: 0.2860, accuracy_valid: 0.9027, 0.4533sec\n",
            "epoch: 94, loss_train: 0.1732, accuracy_train: 0.9452, loss_valid: 0.2852, accuracy_valid: 0.9049, 0.4623sec\n",
            "epoch: 95, loss_train: 0.1714, accuracy_train: 0.9460, loss_valid: 0.2856, accuracy_valid: 0.9034, 0.4387sec\n",
            "epoch: 96, loss_train: 0.1708, accuracy_train: 0.9460, loss_valid: 0.2858, accuracy_valid: 0.9034, 0.4632sec\n",
            "epoch: 97, loss_train: 0.1702, accuracy_train: 0.9466, loss_valid: 0.2861, accuracy_valid: 0.9034, 0.5373sec\n"
          ],
          "name": "stdout"
        }
      ]
    },
    {
      "cell_type": "code",
      "metadata": {
        "id": "0m9njy72pDdx",
        "colab_type": "code",
        "outputId": "86adc2fc-af85-4c94-c703-ccc97595b034",
        "colab": {
          "base_uri": "https://localhost:8080/",
          "height": 334
        }
      },
      "source": [
        "# 視覚化\n",
        "fig, ax = plt.subplots(1, 2, figsize=(15, 5))\n",
        "ax[0].plot(np.array(log['train']).T[0], label='train')\n",
        "ax[0].plot(np.array(log['valid']).T[0], label='valid')\n",
        "ax[0].set_xlabel('epoch')\n",
        "ax[0].set_ylabel('loss')\n",
        "ax[0].legend()\n",
        "ax[1].plot(np.array(log['train']).T[1], label='train')\n",
        "ax[1].plot(np.array(log['valid']).T[1], label='valid')\n",
        "ax[1].set_xlabel('epoch')\n",
        "ax[1].set_ylabel('accuracy')\n",
        "ax[1].legend()\n",
        "plt.show()"
      ],
      "execution_count": 0,
      "outputs": [
        {
          "output_type": "display_data",
          "data": {
            "image/png": "[encoded data removed]",
            "text/plain": [
              "<Figure size 1080x360 with 2 Axes>"
            ]
          },
          "metadata": {
            "tags": [],
            "needs_background": "light"
          }
        }
      ]
    },
    {
      "cell_type": "code",
      "metadata": {
        "id": "2fTxRUL_sIXR",
        "colab_type": "code",
        "colab": {}
      },
      "source": [
        "def calculate_accuracy(model, loader, device):\n",
        "  model.eval()\n",
        "  total = 0\n",
        "  correct = 0\n",
        "  with torch.no_grad():\n",
        "    for inputs, labels in loader:\n",
        "      inputs = inputs.to(device)\n",
        "      labels = labels.to(device)\n",
        "      outputs = model(inputs)\n",
        "      pred = torch.argmax(outputs, dim=-1)\n",
        "      total += len(inputs)\n",
        "      correct += (pred == labels).sum().item()\n",
        "      \n",
        "  return correct / total"
      ],
      "execution_count": 0,
      "outputs": []
    },
    {
      "cell_type": "code",
      "metadata": {
        "id": "KDUa4xY1p-Eo",
        "colab_type": "code",
        "outputId": "bbc60172-94f9-460c-fee6-a7b20ec9ba49",
        "colab": {
          "base_uri": "https://localhost:8080/",
          "height": 51
        }
      },
      "source": [
        "# 正解率の確認\n",
        "acc_train = calculate_accuracy(model, dataloader_train, device)\n",
        "acc_test = calculate_accuracy(model, dataloader_test, device)\n",
        "print(f'正解率（学習データ）：{acc_train:.3f}')\n",
        "print(f'正解率（評価データ）：{acc_test:.3f}')"
      ],
      "execution_count": 0,
      "outputs": [
        {
          "output_type": "stream",
          "text": [
            "正解率（学習データ）：0.947\n",
            "正解率（評価データ）：0.921\n"
          ],
          "name": "stdout"
        }
      ]
    }
  ]
}